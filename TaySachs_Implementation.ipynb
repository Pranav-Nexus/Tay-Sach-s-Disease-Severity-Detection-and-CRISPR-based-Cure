{
 "cells": [
  {
   "cell_type": "markdown",
   "id": "14f53061-f6e0-40e8-8dba-725ee6ddd655",
   "metadata": {},
   "source": [
    "# CRISPR Prime Editing Guide RNA Design for Tay Sachs Disease "
   ]
  },
  {
   "cell_type": "markdown",
   "id": "83f63987",
   "metadata": {},
   "source": [
    "# Importing Required Dependencies"
   ]
  },
  {
   "cell_type": "code",
   "execution_count": 1,
   "id": "9c142bd0-c18b-4c3a-a6ae-205d3275bff5",
   "metadata": {
    "scrolled": true
   },
   "outputs": [],
   "source": [
    "import Bio"
   ]
  },
  {
   "cell_type": "markdown",
   "id": "5046b41c",
   "metadata": {},
   "source": [
    "Module Bio:\n",
    "\n",
    "- Biopython is the largest and most popular bioinformatics package for Python. It contains a number of different sub-modules for common bioinformatics tasks. It is developed by Chapman and Chang, mainly written in Python. It also contains C code to optimize the complex computation part of the software."
   ]
  },
  {
   "cell_type": "code",
   "execution_count": 2,
   "id": "aca4edb8",
   "metadata": {},
   "outputs": [],
   "source": [
    "from Bio.Seq import Seq"
   ]
  },
  {
   "cell_type": "markdown",
   "id": "416a8d04",
   "metadata": {},
   "source": [
    "Library Seq:\n",
    "\n",
    "- The Seq object provides a number of string like methods (such as count, find, split and strip), which are alphabet aware where appropriate.\n",
    "\n",
    "\n",
    "- In addition to the string like sequence, the Seq object has an alphabet property. This is an instance of an Alphabet class from Bio.Alphabet, for example generic DNA, or IUPAC DNA. This describes the type of molecule (e.g. RNA, DNA, protein) and may also indicate the expected symbols (letters).\n",
    "\n",
    "\n",
    "- The Seq object also provides some biological methods, such as complement, reverse_complement, transcribe, back_transcribe and translate (which are not applicable to sequences with a protein alphabet)."
   ]
  },
  {
   "cell_type": "code",
   "execution_count": 3,
   "id": "16e5fa73",
   "metadata": {},
   "outputs": [],
   "source": [
    "from Bio import SeqIO"
   ]
  },
  {
   "cell_type": "markdown",
   "id": "8236a825",
   "metadata": {},
   "source": [
    "Library SeqIO:\n",
    "\n",
    "- Bio.SeqIO provides a simple uniform interface to input and output assorted sequence file formats (including multiple sequence alignments), but will only deal with sequences as SeqRecord objects."
   ]
  },
  {
   "cell_type": "code",
   "execution_count": 4,
   "id": "6d439a88",
   "metadata": {},
   "outputs": [],
   "source": [
    "from Bio import pairwise2"
   ]
  },
  {
   "cell_type": "markdown",
   "id": "b8e1b382",
   "metadata": {},
   "source": [
    "Library pairwise2:\n",
    "\n",
    "- This provides functions to get global and local alignments between two sequences. A global alignment finds the best concordance between all characters in two sequences. A local alignment finds just the subsequences that align the best. "
   ]
  },
  {
   "cell_type": "code",
   "execution_count": 5,
   "id": "aa510822",
   "metadata": {},
   "outputs": [],
   "source": [
    "import matplotlib.pyplot as plt"
   ]
  },
  {
   "cell_type": "markdown",
   "id": "6c11a518",
   "metadata": {},
   "source": [
    "Library matplotlib.pyplot:\n",
    "\n",
    "- matplotlib.pyplot is a collection of functions that make matplotlib work like MATLAB. Each pyplot function makes some change to a figure: e.g., creates a figure, creates a plotting area in a figure, plots some lines in a plotting area, decorates the plot with labels, etc."
   ]
  },
  {
   "cell_type": "code",
   "execution_count": 6,
   "id": "ae87491a",
   "metadata": {},
   "outputs": [],
   "source": [
    "import re"
   ]
  },
  {
   "cell_type": "markdown",
   "id": "bc97cbb2",
   "metadata": {},
   "source": [
    "Module re:\n",
    "\n",
    "- This module provides regular expression matching operations similar to those found in Perl.Both patterns and strings to be searched can be Unicode strings (str) as well as 8-bit strings (bytes). However, Unicode strings and 8-bit strings cannot be mixed: that is, you cannot match a Unicode string with a byte pattern or vice-versa; similarly, when asking for a substitution, the replacement string must be of the same type as both the pattern and the search string."
   ]
  },
  {
   "cell_type": "code",
   "execution_count": 7,
   "id": "15bc1ec1",
   "metadata": {},
   "outputs": [],
   "source": [
    "import py3Dmol"
   ]
  },
  {
   "cell_type": "markdown",
   "id": "adb3cbc6",
   "metadata": {},
   "source": [
    "Module py3Dmol:\n",
    "\n",
    "- The widget is completely static, which means the viewer doesn’t need a running IPython kernel to be useful and web pages and presentations generated from the notebook will work as expected. However, this also means there is only one-way communication between the notebook and the viewer."
   ]
  },
  {
   "cell_type": "code",
   "execution_count": 8,
   "id": "f6a62252",
   "metadata": {},
   "outputs": [],
   "source": [
    "from warnings import simplefilter\n",
    "simplefilter(action='ignore', category=FutureWarning)"
   ]
  },
  {
   "cell_type": "markdown",
   "id": "a61506bc",
   "metadata": {},
   "source": [
    "Module Warning :\n",
    "- Warning messages are typically issued in situations where it is useful to alert the user of some condition in a program, where that condition (normally) doesn’t warrant raising an exception and terminating the program. For example, one might want to issue a warning when a program uses an obsolete module.\n",
    "\n",
    "\n",
    "sub - module : \n",
    "\n",
    "Simplifier:\n",
    "- Simplifies warnings"
   ]
  },
  {
   "cell_type": "code",
   "execution_count": 9,
   "id": "058b6c25",
   "metadata": {},
   "outputs": [],
   "source": [
    "import pandas as pd"
   ]
  },
  {
   "cell_type": "markdown",
   "id": "eef63e32",
   "metadata": {},
   "source": [
    "Pandas is used to analyze data"
   ]
  },
  {
   "cell_type": "code",
   "execution_count": 10,
   "id": "78613dfc",
   "metadata": {},
   "outputs": [],
   "source": [
    "from sklearn.preprocessing import LabelEncoder"
   ]
  },
  {
   "cell_type": "markdown",
   "id": "883cd4f8",
   "metadata": {},
   "source": [
    "Encode target labels with value between 0 and n_classes-1.\n",
    "\n",
    "This transformer should be used to encode target values, i.e. y, and not the input X."
   ]
  },
  {
   "cell_type": "code",
   "execution_count": 11,
   "id": "2f393275",
   "metadata": {},
   "outputs": [],
   "source": [
    "from sklearn.model_selection import train_test_split"
   ]
  },
  {
   "cell_type": "markdown",
   "id": "3b95cfbc",
   "metadata": {},
   "source": [
    "Split arrays or matrices into random train and test subsets."
   ]
  },
  {
   "cell_type": "code",
   "execution_count": 12,
   "id": "eb51f76c",
   "metadata": {},
   "outputs": [],
   "source": [
    "from sklearn.preprocessing import StandardScaler"
   ]
  },
  {
   "cell_type": "markdown",
   "id": "368724f9",
   "metadata": {},
   "source": [
    "Standardize features by removing the mean and scaling to unit variance."
   ]
  },
  {
   "cell_type": "code",
   "execution_count": 13,
   "id": "8f88f5a4",
   "metadata": {},
   "outputs": [],
   "source": [
    "from sklearn.metrics import accuracy_score"
   ]
  },
  {
   "cell_type": "markdown",
   "id": "080d87d9",
   "metadata": {},
   "source": [
    "Predicting Model Accuracy"
   ]
  },
  {
   "cell_type": "code",
   "execution_count": 14,
   "id": "c092c211",
   "metadata": {},
   "outputs": [],
   "source": [
    "from sklearn.metrics import f1_score"
   ]
  },
  {
   "cell_type": "markdown",
   "id": "9cdbdabc",
   "metadata": {},
   "source": [
    "The F1 score can be interpreted as a harmonic mean of the precision and recall, where an F1 score reaches its best value at 1 and worst score at 0. The relative contribution of precision and recall to the F1 score are equal. The formula for the F1 score is:\n",
    "\n",
    "F1 = 2 * (precision * recall) / (precision + recall)"
   ]
  },
  {
   "cell_type": "code",
   "execution_count": 15,
   "id": "41063eba",
   "metadata": {},
   "outputs": [],
   "source": [
    "import seaborn as sn"
   ]
  },
  {
   "cell_type": "markdown",
   "id": "cffcce2c",
   "metadata": {},
   "source": [
    "Seaborn is a library that uses Matplotlib underneath to plot graphs. It will be used to visualize random distributions."
   ]
  },
  {
   "cell_type": "code",
   "execution_count": 16,
   "id": "849a1bc4",
   "metadata": {},
   "outputs": [],
   "source": [
    "from sklearn.linear_model import LogisticRegression"
   ]
  },
  {
   "cell_type": "markdown",
   "id": "35e381f0",
   "metadata": {},
   "source": [
    "This Library is used for Regression Analysis"
   ]
  },
  {
   "cell_type": "code",
   "execution_count": 17,
   "id": "e57f8771",
   "metadata": {},
   "outputs": [],
   "source": [
    "from sklearn.neighbors import KNeighborsClassifier"
   ]
  },
  {
   "cell_type": "markdown",
   "id": "ba41e111",
   "metadata": {},
   "source": [
    "Fit the k-nearest neighbors classifier from the training dataset."
   ]
  },
  {
   "cell_type": "code",
   "execution_count": 18,
   "id": "b1e9684b",
   "metadata": {},
   "outputs": [],
   "source": [
    "from sklearn.svm import SVC"
   ]
  },
  {
   "cell_type": "markdown",
   "id": "348c6dac",
   "metadata": {},
   "source": [
    "The fit time scales at least quadratically with the number of samples and may be impractical beyond tens of thousands of samples. "
   ]
  },
  {
   "cell_type": "code",
   "execution_count": 19,
   "id": "b55a423a",
   "metadata": {},
   "outputs": [],
   "source": [
    "from sklearn.naive_bayes import GaussianNB"
   ]
  },
  {
   "cell_type": "markdown",
   "id": "43f2536f",
   "metadata": {},
   "source": [
    "Naive Bayes methods are a set of supervised learning algorithms based on applying Bayes’ theorem with the “naive” assumption of conditional independence between every pair of features given the value of the class variable. "
   ]
  },
  {
   "cell_type": "code",
   "execution_count": 20,
   "id": "de8b227c",
   "metadata": {},
   "outputs": [],
   "source": [
    "from sklearn.tree import DecisionTreeClassifier"
   ]
  },
  {
   "cell_type": "markdown",
   "id": "63392538",
   "metadata": {},
   "source": [
    "Decision Trees (DTs) are a non-parametric supervised learning method used for classification and regression. The goal is to create a model that predicts the value of a target variable by learning simple decision rules inferred from the data features. A tree can be seen as a piecewise constant approximation."
   ]
  },
  {
   "cell_type": "code",
   "execution_count": 21,
   "id": "85e11e19",
   "metadata": {},
   "outputs": [],
   "source": [
    "from sklearn.ensemble import RandomForestClassifier"
   ]
  },
  {
   "cell_type": "markdown",
   "id": "69826ec4",
   "metadata": {},
   "source": [
    "A random forest is a meta estimator that fits a number of decision tree classifiers on various sub-samples of the dataset and use averaging to improve the predictive accuracy and control over-fitting."
   ]
  },
  {
   "cell_type": "markdown",
   "id": "3cb99444",
   "metadata": {},
   "source": [
    "## Prediction of Tay - Sachs"
   ]
  },
  {
   "cell_type": "markdown",
   "id": "674c6812",
   "metadata": {},
   "source": [
    "Importing Dataset"
   ]
  },
  {
   "cell_type": "code",
   "execution_count": 22,
   "id": "2fe34b05",
   "metadata": {},
   "outputs": [],
   "source": [
    "data = pd.read_csv(\"C:/Users/harih/Documents/College-AIE/Sem 3/Bio/Project/Prediction/taysachs_final.csv\")"
   ]
  },
  {
   "cell_type": "markdown",
   "id": "4da8816c",
   "metadata": {},
   "source": [
    "Display first 5 rows of the dataset"
   ]
  },
  {
   "cell_type": "code",
   "execution_count": 23,
   "id": "66a18b58",
   "metadata": {},
   "outputs": [
    {
     "data": {
      "text/html": [
       "<div>\n",
       "<style scoped>\n",
       "    .dataframe tbody tr th:only-of-type {\n",
       "        vertical-align: middle;\n",
       "    }\n",
       "\n",
       "    .dataframe tbody tr th {\n",
       "        vertical-align: top;\n",
       "    }\n",
       "\n",
       "    .dataframe thead th {\n",
       "        text-align: right;\n",
       "    }\n",
       "</style>\n",
       "<table border=\"1\" class=\"dataframe\">\n",
       "  <thead>\n",
       "    <tr style=\"text-align: right;\">\n",
       "      <th></th>\n",
       "      <th>ID</th>\n",
       "      <th>Diagnosis</th>\n",
       "      <th>Location</th>\n",
       "      <th>Allele Change</th>\n",
       "      <th>Mutation-Type</th>\n",
       "    </tr>\n",
       "  </thead>\n",
       "  <tbody>\n",
       "    <tr>\n",
       "      <th>0</th>\n",
       "      <td>100728</td>\n",
       "      <td>Malignant</td>\n",
       "      <td>151266820</td>\n",
       "      <td>0</td>\n",
       "      <td>1</td>\n",
       "    </tr>\n",
       "    <tr>\n",
       "      <th>1</th>\n",
       "      <td>1332717</td>\n",
       "      <td>Malignant</td>\n",
       "      <td>72345527</td>\n",
       "      <td>0</td>\n",
       "      <td>1</td>\n",
       "    </tr>\n",
       "    <tr>\n",
       "      <th>2</th>\n",
       "      <td>1210422</td>\n",
       "      <td>Malignant</td>\n",
       "      <td>72351189</td>\n",
       "      <td>1</td>\n",
       "      <td>6</td>\n",
       "    </tr>\n",
       "    <tr>\n",
       "      <th>3</th>\n",
       "      <td>1192227</td>\n",
       "      <td>Malignant</td>\n",
       "      <td>72345419</td>\n",
       "      <td>0</td>\n",
       "      <td>1</td>\n",
       "    </tr>\n",
       "    <tr>\n",
       "      <th>4</th>\n",
       "      <td>1172730</td>\n",
       "      <td>Benign</td>\n",
       "      <td>72353011</td>\n",
       "      <td>1</td>\n",
       "      <td>6</td>\n",
       "    </tr>\n",
       "  </tbody>\n",
       "</table>\n",
       "</div>"
      ],
      "text/plain": [
       "        ID  Diagnosis   Location  Allele Change  Mutation-Type\n",
       "0   100728  Malignant  151266820              0              1\n",
       "1  1332717  Malignant   72345527              0              1\n",
       "2  1210422  Malignant   72351189              1              6\n",
       "3  1192227  Malignant   72345419              0              1\n",
       "4  1172730     Benign   72353011              1              6"
      ]
     },
     "execution_count": 23,
     "metadata": {},
     "output_type": "execute_result"
    }
   ],
   "source": [
    "data.head(5)"
   ]
  },
  {
   "cell_type": "markdown",
   "id": "bb85070d",
   "metadata": {},
   "source": [
    "Display total number of rows and columns in the dataset"
   ]
  },
  {
   "cell_type": "code",
   "execution_count": 24,
   "id": "46f02905",
   "metadata": {},
   "outputs": [
    {
     "data": {
      "text/plain": [
       "(441, 5)"
      ]
     },
     "execution_count": 24,
     "metadata": {},
     "output_type": "execute_result"
    }
   ],
   "source": [
    "data.shape"
   ]
  },
  {
   "cell_type": "markdown",
   "id": "3ea2d298",
   "metadata": {},
   "source": [
    "Statistical description of the data"
   ]
  },
  {
   "cell_type": "code",
   "execution_count": 25,
   "id": "c03a873e",
   "metadata": {},
   "outputs": [
    {
     "data": {
      "text/html": [
       "<div>\n",
       "<style scoped>\n",
       "    .dataframe tbody tr th:only-of-type {\n",
       "        vertical-align: middle;\n",
       "    }\n",
       "\n",
       "    .dataframe tbody tr th {\n",
       "        vertical-align: top;\n",
       "    }\n",
       "\n",
       "    .dataframe thead th {\n",
       "        text-align: right;\n",
       "    }\n",
       "</style>\n",
       "<table border=\"1\" class=\"dataframe\">\n",
       "  <thead>\n",
       "    <tr style=\"text-align: right;\">\n",
       "      <th></th>\n",
       "      <th>ID</th>\n",
       "      <th>Location</th>\n",
       "      <th>Allele Change</th>\n",
       "      <th>Mutation-Type</th>\n",
       "    </tr>\n",
       "  </thead>\n",
       "  <tbody>\n",
       "    <tr>\n",
       "      <th>count</th>\n",
       "      <td>4.410000e+02</td>\n",
       "      <td>4.410000e+02</td>\n",
       "      <td>441.000000</td>\n",
       "      <td>441.000000</td>\n",
       "    </tr>\n",
       "    <tr>\n",
       "      <th>mean</th>\n",
       "      <td>6.410076e+05</td>\n",
       "      <td>7.253834e+07</td>\n",
       "      <td>4.716553</td>\n",
       "      <td>5.433107</td>\n",
       "    </tr>\n",
       "    <tr>\n",
       "      <th>std</th>\n",
       "      <td>3.770603e+05</td>\n",
       "      <td>3.759200e+06</td>\n",
       "      <td>3.675338</td>\n",
       "      <td>1.504748</td>\n",
       "    </tr>\n",
       "    <tr>\n",
       "      <th>min</th>\n",
       "      <td>3.884000e+03</td>\n",
       "      <td>7.234345e+07</td>\n",
       "      <td>0.000000</td>\n",
       "      <td>1.000000</td>\n",
       "    </tr>\n",
       "    <tr>\n",
       "      <th>25%</th>\n",
       "      <td>3.711690e+05</td>\n",
       "      <td>7.234663e+07</td>\n",
       "      <td>1.000000</td>\n",
       "      <td>6.000000</td>\n",
       "    </tr>\n",
       "    <tr>\n",
       "      <th>50%</th>\n",
       "      <td>5.564160e+05</td>\n",
       "      <td>7.235053e+07</td>\n",
       "      <td>5.000000</td>\n",
       "      <td>6.000000</td>\n",
       "    </tr>\n",
       "    <tr>\n",
       "      <th>75%</th>\n",
       "      <td>1.037233e+06</td>\n",
       "      <td>7.235560e+07</td>\n",
       "      <td>7.000000</td>\n",
       "      <td>6.000000</td>\n",
       "    </tr>\n",
       "    <tr>\n",
       "      <th>max</th>\n",
       "      <td>1.332717e+06</td>\n",
       "      <td>1.512668e+08</td>\n",
       "      <td>12.000000</td>\n",
       "      <td>6.000000</td>\n",
       "    </tr>\n",
       "  </tbody>\n",
       "</table>\n",
       "</div>"
      ],
      "text/plain": [
       "                 ID      Location  Allele Change  Mutation-Type\n",
       "count  4.410000e+02  4.410000e+02     441.000000     441.000000\n",
       "mean   6.410076e+05  7.253834e+07       4.716553       5.433107\n",
       "std    3.770603e+05  3.759200e+06       3.675338       1.504748\n",
       "min    3.884000e+03  7.234345e+07       0.000000       1.000000\n",
       "25%    3.711690e+05  7.234663e+07       1.000000       6.000000\n",
       "50%    5.564160e+05  7.235053e+07       5.000000       6.000000\n",
       "75%    1.037233e+06  7.235560e+07       7.000000       6.000000\n",
       "max    1.332717e+06  1.512668e+08      12.000000       6.000000"
      ]
     },
     "execution_count": 25,
     "metadata": {},
     "output_type": "execute_result"
    }
   ],
   "source": [
    "data.describe()"
   ]
  },
  {
   "cell_type": "markdown",
   "id": "d9300c50",
   "metadata": {},
   "source": [
    "Check for null values in the dataset "
   ]
  },
  {
   "cell_type": "code",
   "execution_count": 26,
   "id": "9ec34eee",
   "metadata": {
    "scrolled": true
   },
   "outputs": [
    {
     "data": {
      "text/plain": [
       "ID               0\n",
       "Diagnosis        0\n",
       "Location         0\n",
       "Allele Change    0\n",
       "Mutation-Type    0\n",
       "dtype: int64"
      ]
     },
     "execution_count": 26,
     "metadata": {},
     "output_type": "execute_result"
    }
   ],
   "source": [
    "data.isnull().sum()\n",
    "data.isna().sum()"
   ]
  },
  {
   "cell_type": "markdown",
   "id": "6f3ce905",
   "metadata": {},
   "source": [
    "Understand the target varibale further"
   ]
  },
  {
   "cell_type": "code",
   "execution_count": 27,
   "id": "6a7b8524",
   "metadata": {
    "scrolled": true
   },
   "outputs": [
    {
     "data": {
      "text/plain": [
       "Malignant    231\n",
       "Benign       210\n",
       "Name: Diagnosis, dtype: int64"
      ]
     },
     "execution_count": 27,
     "metadata": {},
     "output_type": "execute_result"
    }
   ],
   "source": [
    "data[\"Diagnosis\"].value_counts()"
   ]
  },
  {
   "cell_type": "markdown",
   "id": "ada007b0",
   "metadata": {},
   "source": [
    "Visualize dataset using Histograms\n",
    "\n",
    "A histogram is a plot that lets you discover, and show, the underlying frequency distribution "
   ]
  },
  {
   "cell_type": "code",
   "execution_count": 28,
   "id": "a797c769",
   "metadata": {},
   "outputs": [
    {
     "data": {
      "image/png": "[encoded data removed]",
      "text/plain": [
       "<Figure size 1440x1080 with 4 Axes>"
      ]
     },
     "metadata": {
      "needs_background": "light"
     },
     "output_type": "display_data"
    }
   ],
   "source": [
    "num_bins = 10\n",
    "data.hist(bins=num_bins, figsize=(20,15))\n",
    "plt.show()"
   ]
  },
  {
   "cell_type": "markdown",
   "id": "f9d9a776",
   "metadata": {},
   "source": [
    "Assign independent variables (input variables) to X"
   ]
  },
  {
   "cell_type": "code",
   "execution_count": 29,
   "id": "aa01f9b5",
   "metadata": {},
   "outputs": [],
   "source": [
    "X = data.iloc[:, 2:].values"
   ]
  },
  {
   "cell_type": "code",
   "execution_count": 30,
   "id": "f3ffd9c4",
   "metadata": {},
   "outputs": [
    {
     "data": {
      "text/plain": [
       "(441, 3)"
      ]
     },
     "execution_count": 30,
     "metadata": {},
     "output_type": "execute_result"
    }
   ],
   "source": [
    "X.shape"
   ]
  },
  {
   "cell_type": "markdown",
   "id": "d195f083",
   "metadata": {},
   "source": [
    "Assign target variable to Y. Here, target variable is \"diagnosis\" which is in position 1"
   ]
  },
  {
   "cell_type": "code",
   "execution_count": 31,
   "id": "39727576",
   "metadata": {},
   "outputs": [],
   "source": [
    "Y = data.iloc[:, 1].values"
   ]
  },
  {
   "cell_type": "code",
   "execution_count": 32,
   "id": "c2971624",
   "metadata": {},
   "outputs": [
    {
     "data": {
      "text/plain": [
       "array([1, 1, 1, 1, 0, 0, 0, 0, 0, 0, 0, 0, 0, 0, 0, 0, 0, 0, 0, 0, 0, 0,\n",
       "       0, 0, 0, 0, 0, 0, 0, 0, 0, 0, 0, 0, 0, 0, 0, 0, 0, 0, 0, 0, 0, 0,\n",
       "       0, 0, 0, 0, 0, 0, 0, 0, 0, 0, 0, 0, 0, 0, 0, 0, 0, 0, 0, 0, 0, 0,\n",
       "       0, 0, 0, 0, 0, 0, 0, 0, 0, 0, 0, 0, 0, 0, 0, 0, 0, 0, 0, 0, 0, 0,\n",
       "       0, 0, 0, 0, 0, 0, 0, 0, 0, 1, 1, 1, 1, 1, 1, 1, 1, 1, 1, 0, 0, 1,\n",
       "       0, 0, 0, 1, 0, 1, 1, 1, 0, 0, 0, 0, 1, 1, 1, 1, 1, 1, 1, 1, 1, 1,\n",
       "       1, 1, 1, 0, 0, 0, 1, 1, 1, 1, 1, 0, 1, 1, 1, 0, 1, 1, 1, 1, 1, 1,\n",
       "       1, 1, 1, 0, 1, 1, 1, 0, 0, 1, 0, 0, 0, 0, 0, 0, 0, 0, 0, 0, 0, 0,\n",
       "       0, 0, 0, 0, 0, 0, 0, 0, 0, 0, 0, 0, 0, 0, 0, 0, 0, 0, 1, 0, 0, 1,\n",
       "       0, 0, 0, 1, 0, 1, 1, 1, 0, 1, 1, 1, 1, 1, 1, 1, 0, 1, 1, 0, 1, 0,\n",
       "       0, 1, 0, 1, 1, 1, 1, 1, 1, 1, 0, 1, 1, 0, 0, 0, 0, 1, 0, 0, 1, 0,\n",
       "       0, 0, 1, 0, 0, 0, 1, 1, 0, 1, 0, 0, 1, 0, 0, 1, 0, 1, 1, 0, 1, 0,\n",
       "       1, 0, 0, 0, 1, 0, 1, 1, 1, 0, 1, 1, 1, 0, 1, 1, 1, 0, 1, 0, 1, 0,\n",
       "       1, 1, 0, 1, 1, 1, 1, 1, 1, 1, 0, 0, 0, 0, 0, 0, 1, 1, 1, 1, 1, 1,\n",
       "       1, 1, 1, 1, 1, 1, 1, 1, 1, 1, 1, 1, 1, 1, 1, 1, 1, 1, 1, 1, 1, 1,\n",
       "       1, 1, 1, 1, 1, 1, 1, 1, 1, 1, 0, 0, 1, 1, 1, 1, 1, 0, 0, 1, 1, 1,\n",
       "       1, 1, 1, 1, 1, 0, 0, 0, 0, 1, 0, 0, 0, 1, 0, 0, 0, 1, 1, 1, 1, 1,\n",
       "       1, 1, 0, 1, 1, 1, 1, 1, 1, 1, 1, 1, 0, 1, 1, 0, 1, 0, 1, 0, 0, 1,\n",
       "       1, 1, 1, 1, 1, 1, 1, 1, 1, 1, 1, 1, 1, 1, 1, 1, 1, 1, 1, 1, 1, 1,\n",
       "       1, 1, 1, 1, 1, 1, 1, 1, 1, 1, 1, 1, 1, 1, 1, 1, 1, 1, 1, 1, 1, 1,\n",
       "       1])"
      ]
     },
     "execution_count": 32,
     "metadata": {},
     "output_type": "execute_result"
    }
   ],
   "source": [
    "labelencoder_Y = LabelEncoder()\n",
    "Y = labelencoder_Y.fit_transform(Y)\n",
    "Y"
   ]
  },
  {
   "cell_type": "markdown",
   "id": "cd4b653f",
   "metadata": {},
   "source": [
    "Split the dataset into 75% train and 25% test data"
   ]
  },
  {
   "cell_type": "code",
   "execution_count": 33,
   "id": "a3d473b2",
   "metadata": {},
   "outputs": [],
   "source": [
    "X_train, X_test, Y_train, Y_test = train_test_split(X, Y, test_size = 0.25, random_state = 0)"
   ]
  },
  {
   "cell_type": "markdown",
   "id": "1b55f884",
   "metadata": {},
   "source": [
    "Standardizing the features using StandardScaler"
   ]
  },
  {
   "cell_type": "code",
   "execution_count": 34,
   "id": "ce96405c",
   "metadata": {},
   "outputs": [],
   "source": [
    "sc = StandardScaler()\n",
    "X_train = sc.fit_transform(X_train)\n",
    "X_test = sc.transform(X_test)"
   ]
  },
  {
   "cell_type": "code",
   "execution_count": 35,
   "id": "c1a23066",
   "metadata": {},
   "outputs": [],
   "source": [
    "classifier_1= LogisticRegression(random_state = 0)"
   ]
  },
  {
   "cell_type": "markdown",
   "id": "3b31f1ce",
   "metadata": {},
   "source": [
    "Training the model"
   ]
  },
  {
   "cell_type": "code",
   "execution_count": 36,
   "id": "fad04ca0",
   "metadata": {},
   "outputs": [
    {
     "data": {
      "text/plain": [
       "LogisticRegression(random_state=0)"
      ]
     },
     "execution_count": 36,
     "metadata": {},
     "output_type": "execute_result"
    }
   ],
   "source": [
    "classifier_1.fit(X_train, Y_train)"
   ]
  },
  {
   "cell_type": "markdown",
   "id": "7f1e70fc",
   "metadata": {},
   "source": [
    "Testing the Model"
   ]
  },
  {
   "cell_type": "code",
   "execution_count": 37,
   "id": "9edd59aa",
   "metadata": {},
   "outputs": [],
   "source": [
    "Y_pred1 = classifier_1.predict(X_test)"
   ]
  },
  {
   "cell_type": "markdown",
   "id": "c8dee48e",
   "metadata": {},
   "source": [
    "Evaluating our model"
   ]
  },
  {
   "cell_type": "code",
   "execution_count": 38,
   "id": "0f667162",
   "metadata": {},
   "outputs": [
    {
     "name": "stdout",
     "output_type": "stream",
     "text": [
      "0.6306306306306306\n"
     ]
    },
    {
     "data": {
      "text/plain": [
       "<AxesSubplot:xlabel='Predicted', ylabel='Actual'>"
      ]
     },
     "execution_count": 38,
     "metadata": {},
     "output_type": "execute_result"
    },
    {
     "data": {
      "image/png": "[encoded data removed]",
      "text/plain": [
       "<Figure size 432x288 with 2 Axes>"
      ]
     },
     "metadata": {
      "needs_background": "light"
     },
     "output_type": "display_data"
    }
   ],
   "source": [
    "print (accuracy_score(Y_test, Y_pred1))\n",
    "confusion_matrix = pd.crosstab(Y_test, Y_pred1, rownames=['Actual'], colnames=['Predicted'])\n",
    "sn.heatmap(confusion_matrix, annot=True)"
   ]
  },
  {
   "cell_type": "code",
   "execution_count": 39,
   "id": "50cc65f6",
   "metadata": {},
   "outputs": [],
   "source": [
    "classifier_2 = KNeighborsClassifier(n_neighbors = 5, metric = 'minkowski', p = 2)\n",
    "classifier_2.fit(X_train, Y_train)\n",
    "Y_pred2 = classifier_2.predict(X_test)"
   ]
  },
  {
   "cell_type": "code",
   "execution_count": 40,
   "id": "acb82ea2",
   "metadata": {},
   "outputs": [
    {
     "name": "stdout",
     "output_type": "stream",
     "text": [
      "0.5855855855855856\n"
     ]
    },
    {
     "data": {
      "text/plain": [
       "<AxesSubplot:xlabel='Predicted', ylabel='Actual'>"
      ]
     },
     "execution_count": 40,
     "metadata": {},
     "output_type": "execute_result"
    },
    {
     "data": {
      "image/png": "[encoded data removed]",
      "text/plain": [
       "<Figure size 432x288 with 2 Axes>"
      ]
     },
     "metadata": {
      "needs_background": "light"
     },
     "output_type": "display_data"
    }
   ],
   "source": [
    "print (accuracy_score(Y_test, Y_pred2))\n",
    "confusion_matrix = pd.crosstab(Y_test, Y_pred2, rownames=['Actual'], colnames=['Predicted'])\n",
    "sn.heatmap(confusion_matrix, annot=True)"
   ]
  },
  {
   "cell_type": "code",
   "execution_count": 41,
   "id": "d244e30e",
   "metadata": {},
   "outputs": [],
   "source": [
    "classifier_3 = SVC(kernel = 'linear', random_state = 0)\n",
    "classifier_3.fit(X_train, Y_train)\n",
    "Y_pred3 = classifier_3.predict(X_test)"
   ]
  },
  {
   "cell_type": "code",
   "execution_count": 42,
   "id": "1eb945de",
   "metadata": {},
   "outputs": [
    {
     "name": "stdout",
     "output_type": "stream",
     "text": [
      "0.5585585585585585\n"
     ]
    },
    {
     "data": {
      "text/plain": [
       "<AxesSubplot:xlabel='Predicted', ylabel='Actual'>"
      ]
     },
     "execution_count": 42,
     "metadata": {},
     "output_type": "execute_result"
    },
    {
     "data": {
      "image/png": "[encoded data removed]",
      "text/plain": [
       "<Figure size 432x288 with 2 Axes>"
      ]
     },
     "metadata": {
      "needs_background": "light"
     },
     "output_type": "display_data"
    }
   ],
   "source": [
    "print (accuracy_score(Y_test, Y_pred3))\n",
    "confusion_matrix = pd.crosstab(Y_test, Y_pred3, rownames=['Actual'], colnames=['Predicted'])\n",
    "sn.heatmap(confusion_matrix, annot=True)"
   ]
  },
  {
   "cell_type": "code",
   "execution_count": 43,
   "id": "6c1e2b23",
   "metadata": {},
   "outputs": [],
   "source": [
    "classifier_4 = SVC(kernel = 'rbf', random_state = 0)\n",
    "classifier_4.fit(X_train, Y_train)\n",
    "Y_pred4 = classifier_4.predict(X_test)"
   ]
  },
  {
   "cell_type": "code",
   "execution_count": 44,
   "id": "1de0e729",
   "metadata": {},
   "outputs": [
    {
     "name": "stdout",
     "output_type": "stream",
     "text": [
      "0.6306306306306306\n"
     ]
    },
    {
     "data": {
      "text/plain": [
       "<AxesSubplot:xlabel='Predicted', ylabel='Actual'>"
      ]
     },
     "execution_count": 44,
     "metadata": {},
     "output_type": "execute_result"
    },
    {
     "data": {
      "image/png": "[encoded data removed]",
      "text/plain": [
       "<Figure size 432x288 with 2 Axes>"
      ]
     },
     "metadata": {
      "needs_background": "light"
     },
     "output_type": "display_data"
    }
   ],
   "source": [
    "print (accuracy_score(Y_test, Y_pred4))\n",
    "confusion_matrix = pd.crosstab(Y_test, Y_pred4, rownames=['Actual'], colnames=['Predicted'])\n",
    "sn.heatmap(confusion_matrix, annot=True)"
   ]
  },
  {
   "cell_type": "code",
   "execution_count": 45,
   "id": "88b36e1b",
   "metadata": {},
   "outputs": [],
   "source": [
    "classifier_5 = GaussianNB()\n",
    "classifier_5.fit(X_train, Y_train)\n",
    "Y_pred5 = classifier_5.predict(X_test)"
   ]
  },
  {
   "cell_type": "code",
   "execution_count": 46,
   "id": "675b25f5",
   "metadata": {},
   "outputs": [
    {
     "name": "stdout",
     "output_type": "stream",
     "text": [
      "0.45045045045045046\n"
     ]
    },
    {
     "data": {
      "text/plain": [
       "<AxesSubplot:xlabel='Predicted', ylabel='Actual'>"
      ]
     },
     "execution_count": 46,
     "metadata": {},
     "output_type": "execute_result"
    },
    {
     "data": {
      "image/png": "[encoded data removed]",
      "text/plain": [
       "<Figure size 432x288 with 2 Axes>"
      ]
     },
     "metadata": {
      "needs_background": "light"
     },
     "output_type": "display_data"
    }
   ],
   "source": [
    "print (accuracy_score(Y_test, Y_pred5))\n",
    "confusion_matrix = pd.crosstab(Y_test, Y_pred5, rownames=['Actual'], colnames=['Predicted'])\n",
    "sn.heatmap(confusion_matrix, annot=True)"
   ]
  },
  {
   "cell_type": "code",
   "execution_count": 47,
   "id": "994b033a",
   "metadata": {},
   "outputs": [],
   "source": [
    "classifier_6 = DecisionTreeClassifier(criterion = 'entropy', random_state = 0)\n",
    "classifier_6.fit(X_train, Y_train)\n",
    "Y_pred6 = classifier_6.predict(X_test)"
   ]
  },
  {
   "cell_type": "code",
   "execution_count": 48,
   "id": "95c87815",
   "metadata": {},
   "outputs": [
    {
     "name": "stdout",
     "output_type": "stream",
     "text": [
      "0.5945945945945946\n"
     ]
    },
    {
     "data": {
      "text/plain": [
       "<AxesSubplot:xlabel='Predicted', ylabel='Actual'>"
      ]
     },
     "execution_count": 48,
     "metadata": {},
     "output_type": "execute_result"
    },
    {
     "data": {
      "image/png": "[encoded data removed]",
      "text/plain": [
       "<Figure size 432x288 with 2 Axes>"
      ]
     },
     "metadata": {
      "needs_background": "light"
     },
     "output_type": "display_data"
    }
   ],
   "source": [
    "print (accuracy_score(Y_test, Y_pred6))\n",
    "confusion_matrix = pd.crosstab(Y_test, Y_pred6, rownames=['Actual'], colnames=['Predicted'])\n",
    "sn.heatmap(confusion_matrix, annot=True)"
   ]
  },
  {
   "cell_type": "code",
   "execution_count": 49,
   "id": "5c43c8b6",
   "metadata": {},
   "outputs": [],
   "source": [
    "classifier_7 = RandomForestClassifier(n_estimators = 15, criterion = 'entropy', random_state = 0)\n",
    "classifier_7.fit(X_train, Y_train)\n",
    "Y_pred7 = classifier_7.predict(X_test)"
   ]
  },
  {
   "cell_type": "code",
   "execution_count": 50,
   "id": "b12f741f",
   "metadata": {},
   "outputs": [
    {
     "name": "stdout",
     "output_type": "stream",
     "text": [
      "0.5855855855855856\n"
     ]
    },
    {
     "data": {
      "text/plain": [
       "<AxesSubplot:xlabel='Predicted', ylabel='Actual'>"
      ]
     },
     "execution_count": 50,
     "metadata": {},
     "output_type": "execute_result"
    },
    {
     "data": {
      "image/png": "[encoded data removed]",
      "text/plain": [
       "<Figure size 432x288 with 2 Axes>"
      ]
     },
     "metadata": {
      "needs_background": "light"
     },
     "output_type": "display_data"
    }
   ],
   "source": [
    "print (accuracy_score(Y_test, Y_pred7))\n",
    "confusion_matrix = pd.crosstab(Y_test, Y_pred7, rownames=['Actual'], colnames=['Predicted'])\n",
    "sn.heatmap(confusion_matrix, annot=True)"
   ]
  },
  {
   "cell_type": "markdown",
   "id": "526e7dd5",
   "metadata": {},
   "source": [
    "#  Reading the DNA Sequence"
   ]
  },
  {
   "cell_type": "code",
   "execution_count": 51,
   "id": "fd7e6cd4-59d7-4458-b56e-e44c28a2dd62",
   "metadata": {},
   "outputs": [
    {
     "name": "stdout",
     "output_type": "stream",
     "text": [
      "NC_000015.10:c72376014-72340924\n",
      "NC_000015.10:c72376014-72340924 Homo sapiens chromosome 15, GRCh38.p14 Primary Assembly\n"
     ]
    }
   ],
   "source": [
    "for record in SeqIO.parse(\"C:/Users/harih/Documents/College-AIE/Sem 3/Bio/Project/Iteration -1/sequence.fasta\",\"fasta\"):\n",
    "    print(record.id)\n",
    "    print(record.description)"
   ]
  },
  {
   "cell_type": "code",
   "execution_count": 52,
   "id": "b385a4e3-18a8-48d1-ad50-f07cf80babc1",
   "metadata": {},
   "outputs": [
    {
     "name": "stdout",
     "output_type": "stream",
     "text": [
      "ID: NC_000015.10:c72376014-72340924\n",
      "Name: NC_000015.10:c72376014-72340924\n",
      "Description: NC_000015.10:c72376014-72340924 Homo sapiens chromosome 15, GRCh38.p14 Primary Assembly\n",
      "Number of features: 0\n",
      "Seq('CTCACGTGGCCAGCCCCCTCCGAGAGGGGAGACCAGCGGGCCATGACAAGCTCC...GTA')\n"
     ]
    }
   ],
   "source": [
    "print(record)"
   ]
  },
  {
   "cell_type": "code",
   "execution_count": 53,
   "id": "bb5a85bc",
   "metadata": {},
   "outputs": [],
   "source": [
    "hexA_dna= SeqIO.read(\"C:/Users/harih/Documents/College-AIE/Sem 3/Bio/Project/Iteration -1/sequence.fasta\",\"fasta\")"
   ]
  },
  {
   "cell_type": "code",
   "execution_count": 54,
   "id": "8b41520c",
   "metadata": {},
   "outputs": [
    {
     "name": "stdout",
     "output_type": "stream",
     "text": [
      "ID: NC_000015.10:c72376014-72340924\n",
      "Name: NC_000015.10:c72376014-72340924\n",
      "Description: NC_000015.10:c72376014-72340924 Homo sapiens chromosome 15, GRCh38.p14 Primary Assembly\n",
      "Number of features: 0\n",
      "Seq('CTCACGTGGCCAGCCCCCTCCGAGAGGGGAGACCAGCGGGCCATGACAAGCTCC...GTA')\n"
     ]
    }
   ],
   "source": [
    "print(hexA_dna)"
   ]
  },
  {
   "cell_type": "markdown",
   "id": "a8d42ec2",
   "metadata": {},
   "source": [
    "The length of the Hex - A gene"
   ]
  },
  {
   "cell_type": "code",
   "execution_count": 55,
   "id": "fadfdf3e-2ebf-4a3d-8819-a2d92c1683e2",
   "metadata": {},
   "outputs": [
    {
     "data": {
      "text/plain": [
       "35091"
      ]
     },
     "execution_count": 55,
     "metadata": {},
     "output_type": "execute_result"
    }
   ],
   "source": [
    "len(hexA_dna)"
   ]
  },
  {
   "cell_type": "markdown",
   "id": "a9ce8850",
   "metadata": {},
   "source": [
    "The nucleotide frequency of the DNA sequence"
   ]
  },
  {
   "cell_type": "code",
   "execution_count": 56,
   "id": "f394c698-5e2d-4aaf-a921-316f6a1a51ce",
   "metadata": {},
   "outputs": [
    {
     "name": "stdout",
     "output_type": "stream",
     "text": [
      "Nucleotide freq. of HEXA is:  {'A': 9378, 'T': 9730, 'G': 8746, 'C': 7237}\n"
     ]
    }
   ],
   "source": [
    "bases= {\"A\": 0, \"T\":0, \"G\":0, \"C\":0}\n",
    "for i in hexA_dna:\n",
    "    if(i==\"A\"):\n",
    "        bases[\"A\"] +=1\n",
    "    elif(i==\"T\"):\n",
    "        bases[\"T\"] +=1\n",
    "    elif(i==\"G\"):\n",
    "        bases[\"G\"] +=1\n",
    "    elif(i==\"C\"):\n",
    "        bases[\"C\"] +=1\n",
    "    \n",
    "    else:\n",
    "        pass\n",
    "print(\"Nucleotide freq. of HEXA is: \",bases)"
   ]
  },
  {
   "cell_type": "code",
   "execution_count": 57,
   "id": "976e15fa-320c-4421-a6c2-c13223779c1d",
   "metadata": {},
   "outputs": [
    {
     "data": {
      "text/plain": [
       "<BarContainer object of 4 artists>"
      ]
     },
     "execution_count": 57,
     "metadata": {},
     "output_type": "execute_result"
    },
    {
     "data": {
      "image/png": "[encoded data removed]",
      "text/plain": [
       "<Figure size 432x288 with 1 Axes>"
      ]
     },
     "metadata": {
      "needs_background": "light"
     },
     "output_type": "display_data"
    }
   ],
   "source": [
    "plt.bar(bases.keys(),bases.values())"
   ]
  },
  {
   "cell_type": "markdown",
   "id": "f0de6110-2322-4e12-88d2-7945c951a102",
   "metadata": {},
   "source": [
    "+ Secondly, we are determining to target zone benefit benchling visualzing software. The target zone include our all mutations.  "
   ]
  },
  {
   "attachments": {
    "84fa576e-ac5d-43af-9f7d-b600e31bb973.png": {
     "image/png": "[encoded data removed]"
    }
   },
   "cell_type": "markdown",
   "id": "a4dd8a80-343d-49d7-bb94-c094f46ab91c",
   "metadata": {},
   "source": [
    "![Screenshot_2.png](attachment:84fa576e-ac5d-43af-9f7d-b600e31bb973.png)\n",
    "\n",
    "##### Pink is 492T>G, turquoise is 496del , green is 497G>A, claret red is 499T>G, blue is 508C>T and red is 509G>A mutation."
   ]
  },
  {
   "cell_type": "code",
   "execution_count": 58,
   "id": "2e3fdf38-f660-4c11-bf32-25aeb7ca2c77",
   "metadata": {},
   "outputs": [],
   "source": [
    "# The target zone for CRISPR-PE system\n",
    "target= hexA_dna[22530:23360]"
   ]
  },
  {
   "cell_type": "code",
   "execution_count": 59,
   "id": "a60f1403-8519-47f3-b5c8-c9eb4c6b16d8",
   "metadata": {},
   "outputs": [
    {
     "name": "stdout",
     "output_type": "stream",
     "text": [
      "ID: NC_000015.10:c72376014-72340924\n",
      "Name: NC_000015.10:c72376014-72340924\n",
      "Description: NC_000015.10:c72376014-72340924 Homo sapiens chromosome 15, GRCh38.p14 Primary Assembly\n",
      "Number of features: 0\n",
      "Seq('CATTTAGTAATGACCTTGAGGCCACACTGCTTTGAAGAAAATAAACTATGTTAA...TAA')\n"
     ]
    }
   ],
   "source": [
    "print(target)"
   ]
  },
  {
   "cell_type": "markdown",
   "id": "270097e5-3dd7-4d19-bde4-e106c8a9066f",
   "metadata": {},
   "source": [
    "### As the third step; we are finding PAM sequence (NGG) and then we are designing our pegRNA sequences. "
   ]
  },
  {
   "cell_type": "code",
   "execution_count": 60,
   "id": "59f51015-e7b8-4d2f-b999-6615b0593bf4",
   "metadata": {},
   "outputs": [],
   "source": [
    "def findPAM_seq(sequence):\n",
    "    \n",
    "    if str(\"GG\") in sequence:\n",
    "        for startmatch in re.finditer(\"GG\",sequence):\n",
    "            remaining= sequence[startmatch.start():]\n",
    "            print(\"+\",remaining,\"---\")"
   ]
  },
  {
   "cell_type": "code",
   "execution_count": 61,
   "id": "f0491f85-1a98-4b85-b6fa-7d3580898dbf",
   "metadata": {},
   "outputs": [],
   "source": [
    "target1_mutation_sequence= \"CATTTAGTAATGACCTTGAGGCCACACTGCTTTGAAGAAAATAAACTATGTTAACAGGAAAATCCAGAATTTGTAGGCTGAGTGGTGTTTGGGACAGTTGTATTAGGCTGGCGTTGGACAATTGCTCTCTGGGAAGGTGGCTGCTTATGGTCATTTATAGAGGTGGGGAGCATTTAGGGAGAGAGCGACCCTGAGAACAGTCACAGATTGGCTTTTTAAGAATCCTGGGAGAGTTGTCTTCATCTCCCTGTGCCCCCATAGTAAGCTTCCTTTGAAACTGACATGTTCAATGTTTGTTCTGCACAGTTCTTTATCAACAAGACTGAGATTGAGGACTT*cCCCCGCTTTCCTCAC*tGGGGCTTGCTGTTGGATACATCTCGCCATTACCTGCCACTCTCTAGCATCCTGGACACTCTGGTAACCAGGCCTTAAGGCCTTCTTCACACTTAAGAGTTCTAGGGTGATGGAGCAACGGACAGACCAAGTTCCAAATTCTTAAAGAGTTAGAGAGGGAATGTATGGACTGGGTGTGGTGGCTCATGCCTGTAATCCCAA\""
   ]
  },
  {
   "cell_type": "code",
   "execution_count": 62,
   "id": "4d2f23f9-3102-4d37-9ded-816ddfe5876e",
   "metadata": {},
   "outputs": [
    {
     "name": "stdout",
     "output_type": "stream",
     "text": [
      "+ GGCCACACTGCTTTGAAGAAAATAAACTATGTTAACAGGAAAATCCAGAATTTGTAGGCTGAGTGGTGTTTGGGACAGTTGTATTAGGCTGGCGTTGGACAATTGCTCTCTGGGAAGGTGGCTGCTTATGGTCATTTATAGAGGTGGGGAGCATTTAGGGAGAGAGCGACCCTGAGAACAGTCACAGATTGGCTTTTTAAGAATCCTGGGAGAGTTGTCTTCATCTCCCTGTGCCCCCATAGTAAGCTTCCTTTGAAACTGACATGTTCAATGTTTGTTCTGCACAGTTCTTTATCAACAAGACTGAGATTGAGGACTT*cCCCCGCTTTCCTCAC*tGGGGCTTGCTGTTGGATACATCTCGCCATTACCTGCCACTCTCTAGCATCCTGGACACTCTGGTAACCAGGCCTTAAGGCCTTCTTCACACTTAAGAGTTCTAGGGTGATGGAGCAACGGACAGACCAAGTTCCAAATTCTTAAAGAGTTAGAGAGGGAATGTATGGACTGGGTGTGGTGGCTCATGCCTGTAATCCCAA ---\n",
      "+ GGAAAATCCAGAATTTGTAGGCTGAGTGGTGTTTGGGACAGTTGTATTAGGCTGGCGTTGGACAATTGCTCTCTGGGAAGGTGGCTGCTTATGGTCATTTATAGAGGTGGGGAGCATTTAGGGAGAGAGCGACCCTGAGAACAGTCACAGATTGGCTTTTTAAGAATCCTGGGAGAGTTGTCTTCATCTCCCTGTGCCCCCATAGTAAGCTTCCTTTGAAACTGACATGTTCAATGTTTGTTCTGCACAGTTCTTTATCAACAAGACTGAGATTGAGGACTT*cCCCCGCTTTCCTCAC*tGGGGCTTGCTGTTGGATACATCTCGCCATTACCTGCCACTCTCTAGCATCCTGGACACTCTGGTAACCAGGCCTTAAGGCCTTCTTCACACTTAAGAGTTCTAGGGTGATGGAGCAACGGACAGACCAAGTTCCAAATTCTTAAAGAGTTAGAGAGGGAATGTATGGACTGGGTGTGGTGGCTCATGCCTGTAATCCCAA ---\n",
      "+ GGCTGAGTGGTGTTTGGGACAGTTGTATTAGGCTGGCGTTGGACAATTGCTCTCTGGGAAGGTGGCTGCTTATGGTCATTTATAGAGGTGGGGAGCATTTAGGGAGAGAGCGACCCTGAGAACAGTCACAGATTGGCTTTTTAAGAATCCTGGGAGAGTTGTCTTCATCTCCCTGTGCCCCCATAGTAAGCTTCCTTTGAAACTGACATGTTCAATGTTTGTTCTGCACAGTTCTTTATCAACAAGACTGAGATTGAGGACTT*cCCCCGCTTTCCTCAC*tGGGGCTTGCTGTTGGATACATCTCGCCATTACCTGCCACTCTCTAGCATCCTGGACACTCTGGTAACCAGGCCTTAAGGCCTTCTTCACACTTAAGAGTTCTAGGGTGATGGAGCAACGGACAGACCAAGTTCCAAATTCTTAAAGAGTTAGAGAGGGAATGTATGGACTGGGTGTGGTGGCTCATGCCTGTAATCCCAA ---\n",
      "+ GGTGTTTGGGACAGTTGTATTAGGCTGGCGTTGGACAATTGCTCTCTGGGAAGGTGGCTGCTTATGGTCATTTATAGAGGTGGGGAGCATTTAGGGAGAGAGCGACCCTGAGAACAGTCACAGATTGGCTTTTTAAGAATCCTGGGAGAGTTGTCTTCATCTCCCTGTGCCCCCATAGTAAGCTTCCTTTGAAACTGACATGTTCAATGTTTGTTCTGCACAGTTCTTTATCAACAAGACTGAGATTGAGGACTT*cCCCCGCTTTCCTCAC*tGGGGCTTGCTGTTGGATACATCTCGCCATTACCTGCCACTCTCTAGCATCCTGGACACTCTGGTAACCAGGCCTTAAGGCCTTCTTCACACTTAAGAGTTCTAGGGTGATGGAGCAACGGACAGACCAAGTTCCAAATTCTTAAAGAGTTAGAGAGGGAATGTATGGACTGGGTGTGGTGGCTCATGCCTGTAATCCCAA ---\n",
      "+ GGGACAGTTGTATTAGGCTGGCGTTGGACAATTGCTCTCTGGGAAGGTGGCTGCTTATGGTCATTTATAGAGGTGGGGAGCATTTAGGGAGAGAGCGACCCTGAGAACAGTCACAGATTGGCTTTTTAAGAATCCTGGGAGAGTTGTCTTCATCTCCCTGTGCCCCCATAGTAAGCTTCCTTTGAAACTGACATGTTCAATGTTTGTTCTGCACAGTTCTTTATCAACAAGACTGAGATTGAGGACTT*cCCCCGCTTTCCTCAC*tGGGGCTTGCTGTTGGATACATCTCGCCATTACCTGCCACTCTCTAGCATCCTGGACACTCTGGTAACCAGGCCTTAAGGCCTTCTTCACACTTAAGAGTTCTAGGGTGATGGAGCAACGGACAGACCAAGTTCCAAATTCTTAAAGAGTTAGAGAGGGAATGTATGGACTGGGTGTGGTGGCTCATGCCTGTAATCCCAA ---\n",
      "+ GGCTGGCGTTGGACAATTGCTCTCTGGGAAGGTGGCTGCTTATGGTCATTTATAGAGGTGGGGAGCATTTAGGGAGAGAGCGACCCTGAGAACAGTCACAGATTGGCTTTTTAAGAATCCTGGGAGAGTTGTCTTCATCTCCCTGTGCCCCCATAGTAAGCTTCCTTTGAAACTGACATGTTCAATGTTTGTTCTGCACAGTTCTTTATCAACAAGACTGAGATTGAGGACTT*cCCCCGCTTTCCTCAC*tGGGGCTTGCTGTTGGATACATCTCGCCATTACCTGCCACTCTCTAGCATCCTGGACACTCTGGTAACCAGGCCTTAAGGCCTTCTTCACACTTAAGAGTTCTAGGGTGATGGAGCAACGGACAGACCAAGTTCCAAATTCTTAAAGAGTTAGAGAGGGAATGTATGGACTGGGTGTGGTGGCTCATGCCTGTAATCCCAA ---\n",
      "+ GGCGTTGGACAATTGCTCTCTGGGAAGGTGGCTGCTTATGGTCATTTATAGAGGTGGGGAGCATTTAGGGAGAGAGCGACCCTGAGAACAGTCACAGATTGGCTTTTTAAGAATCCTGGGAGAGTTGTCTTCATCTCCCTGTGCCCCCATAGTAAGCTTCCTTTGAAACTGACATGTTCAATGTTTGTTCTGCACAGTTCTTTATCAACAAGACTGAGATTGAGGACTT*cCCCCGCTTTCCTCAC*tGGGGCTTGCTGTTGGATACATCTCGCCATTACCTGCCACTCTCTAGCATCCTGGACACTCTGGTAACCAGGCCTTAAGGCCTTCTTCACACTTAAGAGTTCTAGGGTGATGGAGCAACGGACAGACCAAGTTCCAAATTCTTAAAGAGTTAGAGAGGGAATGTATGGACTGGGTGTGGTGGCTCATGCCTGTAATCCCAA ---\n",
      "+ GGACAATTGCTCTCTGGGAAGGTGGCTGCTTATGGTCATTTATAGAGGTGGGGAGCATTTAGGGAGAGAGCGACCCTGAGAACAGTCACAGATTGGCTTTTTAAGAATCCTGGGAGAGTTGTCTTCATCTCCCTGTGCCCCCATAGTAAGCTTCCTTTGAAACTGACATGTTCAATGTTTGTTCTGCACAGTTCTTTATCAACAAGACTGAGATTGAGGACTT*cCCCCGCTTTCCTCAC*tGGGGCTTGCTGTTGGATACATCTCGCCATTACCTGCCACTCTCTAGCATCCTGGACACTCTGGTAACCAGGCCTTAAGGCCTTCTTCACACTTAAGAGTTCTAGGGTGATGGAGCAACGGACAGACCAAGTTCCAAATTCTTAAAGAGTTAGAGAGGGAATGTATGGACTGGGTGTGGTGGCTCATGCCTGTAATCCCAA ---\n",
      "+ GGGAAGGTGGCTGCTTATGGTCATTTATAGAGGTGGGGAGCATTTAGGGAGAGAGCGACCCTGAGAACAGTCACAGATTGGCTTTTTAAGAATCCTGGGAGAGTTGTCTTCATCTCCCTGTGCCCCCATAGTAAGCTTCCTTTGAAACTGACATGTTCAATGTTTGTTCTGCACAGTTCTTTATCAACAAGACTGAGATTGAGGACTT*cCCCCGCTTTCCTCAC*tGGGGCTTGCTGTTGGATACATCTCGCCATTACCTGCCACTCTCTAGCATCCTGGACACTCTGGTAACCAGGCCTTAAGGCCTTCTTCACACTTAAGAGTTCTAGGGTGATGGAGCAACGGACAGACCAAGTTCCAAATTCTTAAAGAGTTAGAGAGGGAATGTATGGACTGGGTGTGGTGGCTCATGCCTGTAATCCCAA ---\n",
      "+ GGTGGCTGCTTATGGTCATTTATAGAGGTGGGGAGCATTTAGGGAGAGAGCGACCCTGAGAACAGTCACAGATTGGCTTTTTAAGAATCCTGGGAGAGTTGTCTTCATCTCCCTGTGCCCCCATAGTAAGCTTCCTTTGAAACTGACATGTTCAATGTTTGTTCTGCACAGTTCTTTATCAACAAGACTGAGATTGAGGACTT*cCCCCGCTTTCCTCAC*tGGGGCTTGCTGTTGGATACATCTCGCCATTACCTGCCACTCTCTAGCATCCTGGACACTCTGGTAACCAGGCCTTAAGGCCTTCTTCACACTTAAGAGTTCTAGGGTGATGGAGCAACGGACAGACCAAGTTCCAAATTCTTAAAGAGTTAGAGAGGGAATGTATGGACTGGGTGTGGTGGCTCATGCCTGTAATCCCAA ---\n",
      "+ GGCTGCTTATGGTCATTTATAGAGGTGGGGAGCATTTAGGGAGAGAGCGACCCTGAGAACAGTCACAGATTGGCTTTTTAAGAATCCTGGGAGAGTTGTCTTCATCTCCCTGTGCCCCCATAGTAAGCTTCCTTTGAAACTGACATGTTCAATGTTTGTTCTGCACAGTTCTTTATCAACAAGACTGAGATTGAGGACTT*cCCCCGCTTTCCTCAC*tGGGGCTTGCTGTTGGATACATCTCGCCATTACCTGCCACTCTCTAGCATCCTGGACACTCTGGTAACCAGGCCTTAAGGCCTTCTTCACACTTAAGAGTTCTAGGGTGATGGAGCAACGGACAGACCAAGTTCCAAATTCTTAAAGAGTTAGAGAGGGAATGTATGGACTGGGTGTGGTGGCTCATGCCTGTAATCCCAA ---\n",
      "+ GGTCATTTATAGAGGTGGGGAGCATTTAGGGAGAGAGCGACCCTGAGAACAGTCACAGATTGGCTTTTTAAGAATCCTGGGAGAGTTGTCTTCATCTCCCTGTGCCCCCATAGTAAGCTTCCTTTGAAACTGACATGTTCAATGTTTGTTCTGCACAGTTCTTTATCAACAAGACTGAGATTGAGGACTT*cCCCCGCTTTCCTCAC*tGGGGCTTGCTGTTGGATACATCTCGCCATTACCTGCCACTCTCTAGCATCCTGGACACTCTGGTAACCAGGCCTTAAGGCCTTCTTCACACTTAAGAGTTCTAGGGTGATGGAGCAACGGACAGACCAAGTTCCAAATTCTTAAAGAGTTAGAGAGGGAATGTATGGACTGGGTGTGGTGGCTCATGCCTGTAATCCCAA ---\n",
      "+ GGTGGGGAGCATTTAGGGAGAGAGCGACCCTGAGAACAGTCACAGATTGGCTTTTTAAGAATCCTGGGAGAGTTGTCTTCATCTCCCTGTGCCCCCATAGTAAGCTTCCTTTGAAACTGACATGTTCAATGTTTGTTCTGCACAGTTCTTTATCAACAAGACTGAGATTGAGGACTT*cCCCCGCTTTCCTCAC*tGGGGCTTGCTGTTGGATACATCTCGCCATTACCTGCCACTCTCTAGCATCCTGGACACTCTGGTAACCAGGCCTTAAGGCCTTCTTCACACTTAAGAGTTCTAGGGTGATGGAGCAACGGACAGACCAAGTTCCAAATTCTTAAAGAGTTAGAGAGGGAATGTATGGACTGGGTGTGGTGGCTCATGCCTGTAATCCCAA ---\n",
      "+ GGGGAGCATTTAGGGAGAGAGCGACCCTGAGAACAGTCACAGATTGGCTTTTTAAGAATCCTGGGAGAGTTGTCTTCATCTCCCTGTGCCCCCATAGTAAGCTTCCTTTGAAACTGACATGTTCAATGTTTGTTCTGCACAGTTCTTTATCAACAAGACTGAGATTGAGGACTT*cCCCCGCTTTCCTCAC*tGGGGCTTGCTGTTGGATACATCTCGCCATTACCTGCCACTCTCTAGCATCCTGGACACTCTGGTAACCAGGCCTTAAGGCCTTCTTCACACTTAAGAGTTCTAGGGTGATGGAGCAACGGACAGACCAAGTTCCAAATTCTTAAAGAGTTAGAGAGGGAATGTATGGACTGGGTGTGGTGGCTCATGCCTGTAATCCCAA ---\n",
      "+ GGAGCATTTAGGGAGAGAGCGACCCTGAGAACAGTCACAGATTGGCTTTTTAAGAATCCTGGGAGAGTTGTCTTCATCTCCCTGTGCCCCCATAGTAAGCTTCCTTTGAAACTGACATGTTCAATGTTTGTTCTGCACAGTTCTTTATCAACAAGACTGAGATTGAGGACTT*cCCCCGCTTTCCTCAC*tGGGGCTTGCTGTTGGATACATCTCGCCATTACCTGCCACTCTCTAGCATCCTGGACACTCTGGTAACCAGGCCTTAAGGCCTTCTTCACACTTAAGAGTTCTAGGGTGATGGAGCAACGGACAGACCAAGTTCCAAATTCTTAAAGAGTTAGAGAGGGAATGTATGGACTGGGTGTGGTGGCTCATGCCTGTAATCCCAA ---\n",
      "+ GGGAGAGAGCGACCCTGAGAACAGTCACAGATTGGCTTTTTAAGAATCCTGGGAGAGTTGTCTTCATCTCCCTGTGCCCCCATAGTAAGCTTCCTTTGAAACTGACATGTTCAATGTTTGTTCTGCACAGTTCTTTATCAACAAGACTGAGATTGAGGACTT*cCCCCGCTTTCCTCAC*tGGGGCTTGCTGTTGGATACATCTCGCCATTACCTGCCACTCTCTAGCATCCTGGACACTCTGGTAACCAGGCCTTAAGGCCTTCTTCACACTTAAGAGTTCTAGGGTGATGGAGCAACGGACAGACCAAGTTCCAAATTCTTAAAGAGTTAGAGAGGGAATGTATGGACTGGGTGTGGTGGCTCATGCCTGTAATCCCAA ---\n",
      "+ GGCTTTTTAAGAATCCTGGGAGAGTTGTCTTCATCTCCCTGTGCCCCCATAGTAAGCTTCCTTTGAAACTGACATGTTCAATGTTTGTTCTGCACAGTTCTTTATCAACAAGACTGAGATTGAGGACTT*cCCCCGCTTTCCTCAC*tGGGGCTTGCTGTTGGATACATCTCGCCATTACCTGCCACTCTCTAGCATCCTGGACACTCTGGTAACCAGGCCTTAAGGCCTTCTTCACACTTAAGAGTTCTAGGGTGATGGAGCAACGGACAGACCAAGTTCCAAATTCTTAAAGAGTTAGAGAGGGAATGTATGGACTGGGTGTGGTGGCTCATGCCTGTAATCCCAA ---\n",
      "+ GGGAGAGTTGTCTTCATCTCCCTGTGCCCCCATAGTAAGCTTCCTTTGAAACTGACATGTTCAATGTTTGTTCTGCACAGTTCTTTATCAACAAGACTGAGATTGAGGACTT*cCCCCGCTTTCCTCAC*tGGGGCTTGCTGTTGGATACATCTCGCCATTACCTGCCACTCTCTAGCATCCTGGACACTCTGGTAACCAGGCCTTAAGGCCTTCTTCACACTTAAGAGTTCTAGGGTGATGGAGCAACGGACAGACCAAGTTCCAAATTCTTAAAGAGTTAGAGAGGGAATGTATGGACTGGGTGTGGTGGCTCATGCCTGTAATCCCAA ---\n",
      "+ GGACTT*cCCCCGCTTTCCTCAC*tGGGGCTTGCTGTTGGATACATCTCGCCATTACCTGCCACTCTCTAGCATCCTGGACACTCTGGTAACCAGGCCTTAAGGCCTTCTTCACACTTAAGAGTTCTAGGGTGATGGAGCAACGGACAGACCAAGTTCCAAATTCTTAAAGAGTTAGAGAGGGAATGTATGGACTGGGTGTGGTGGCTCATGCCTGTAATCCCAA ---\n",
      "+ GGGGCTTGCTGTTGGATACATCTCGCCATTACCTGCCACTCTCTAGCATCCTGGACACTCTGGTAACCAGGCCTTAAGGCCTTCTTCACACTTAAGAGTTCTAGGGTGATGGAGCAACGGACAGACCAAGTTCCAAATTCTTAAAGAGTTAGAGAGGGAATGTATGGACTGGGTGTGGTGGCTCATGCCTGTAATCCCAA ---\n",
      "+ GGCTTGCTGTTGGATACATCTCGCCATTACCTGCCACTCTCTAGCATCCTGGACACTCTGGTAACCAGGCCTTAAGGCCTTCTTCACACTTAAGAGTTCTAGGGTGATGGAGCAACGGACAGACCAAGTTCCAAATTCTTAAAGAGTTAGAGAGGGAATGTATGGACTGGGTGTGGTGGCTCATGCCTGTAATCCCAA ---\n",
      "+ GGATACATCTCGCCATTACCTGCCACTCTCTAGCATCCTGGACACTCTGGTAACCAGGCCTTAAGGCCTTCTTCACACTTAAGAGTTCTAGGGTGATGGAGCAACGGACAGACCAAGTTCCAAATTCTTAAAGAGTTAGAGAGGGAATGTATGGACTGGGTGTGGTGGCTCATGCCTGTAATCCCAA ---\n",
      "+ GGACACTCTGGTAACCAGGCCTTAAGGCCTTCTTCACACTTAAGAGTTCTAGGGTGATGGAGCAACGGACAGACCAAGTTCCAAATTCTTAAAGAGTTAGAGAGGGAATGTATGGACTGGGTGTGGTGGCTCATGCCTGTAATCCCAA ---\n",
      "+ GGTAACCAGGCCTTAAGGCCTTCTTCACACTTAAGAGTTCTAGGGTGATGGAGCAACGGACAGACCAAGTTCCAAATTCTTAAAGAGTTAGAGAGGGAATGTATGGACTGGGTGTGGTGGCTCATGCCTGTAATCCCAA ---\n",
      "+ GGCCTTAAGGCCTTCTTCACACTTAAGAGTTCTAGGGTGATGGAGCAACGGACAGACCAAGTTCCAAATTCTTAAAGAGTTAGAGAGGGAATGTATGGACTGGGTGTGGTGGCTCATGCCTGTAATCCCAA ---\n",
      "+ GGCCTTCTTCACACTTAAGAGTTCTAGGGTGATGGAGCAACGGACAGACCAAGTTCCAAATTCTTAAAGAGTTAGAGAGGGAATGTATGGACTGGGTGTGGTGGCTCATGCCTGTAATCCCAA ---\n",
      "+ GGGTGATGGAGCAACGGACAGACCAAGTTCCAAATTCTTAAAGAGTTAGAGAGGGAATGTATGGACTGGGTGTGGTGGCTCATGCCTGTAATCCCAA ---\n",
      "+ GGAGCAACGGACAGACCAAGTTCCAAATTCTTAAAGAGTTAGAGAGGGAATGTATGGACTGGGTGTGGTGGCTCATGCCTGTAATCCCAA ---\n",
      "+ GGACAGACCAAGTTCCAAATTCTTAAAGAGTTAGAGAGGGAATGTATGGACTGGGTGTGGTGGCTCATGCCTGTAATCCCAA ---\n",
      "+ GGGAATGTATGGACTGGGTGTGGTGGCTCATGCCTGTAATCCCAA ---\n",
      "+ GGACTGGGTGTGGTGGCTCATGCCTGTAATCCCAA ---\n",
      "+ GGGTGTGGTGGCTCATGCCTGTAATCCCAA ---\n",
      "+ GGTGGCTCATGCCTGTAATCCCAA ---\n",
      "+ GGCTCATGCCTGTAATCCCAA ---\n"
     ]
    }
   ],
   "source": [
    "findPAM_seq(target1_mutation_sequence)"
   ]
  },
  {
   "cell_type": "code",
   "execution_count": 63,
   "id": "99689b84-b180-47fd-9fbd-5cd3e1178071",
   "metadata": {},
   "outputs": [
    {
     "name": "stdout",
     "output_type": "stream",
     "text": [
      "+ GGTGGTGTGGGTCAGGTATGTAAGGGAGAGATTGAGAAATTCTTAAACCTTGAACCAGACAGGCAACGAGGTAGTGGGATCTTGAGAATTCACACTTCTTCCGGAATTCCGGACCAATGGTCTCACAGGTCCTACGATCTCTCACCGTCCATTACCGCTCTACATAGGTTGTCGTTCGGGGt*CACTCCTTTCGCCCCc*TTCAGGAGTTAGAGTCAGAACAACTATTTCTTGACACGTCTTGTTTGTAACTTGTACAGTCAAAGTTTCCTTCGAATGATACCCCCGTGTCCCTCTACTTCTGTTGAGAGGGTCCTAAGAATTTTTCGGTTAGACACTGACAAGAGTCCCAGCGAGAGAGGGATTTACGAGGGGTGGAGATATTTACTGGTATTCGTCGGTGGAAGGGTCTCTCGTTAACAGGTTGCGGTCGGATTATGTTGACAGGGTTTGTGGTGAGTCGGATGTTTAAGACCTAAAAGGACAATTGTATCAAATAAAAGAAGTTTCGTCACACCGGAGTTCCAGTAATGATTTAC ---\n",
      "+ GGTGTGGGTCAGGTATGTAAGGGAGAGATTGAGAAATTCTTAAACCTTGAACCAGACAGGCAACGAGGTAGTGGGATCTTGAGAATTCACACTTCTTCCGGAATTCCGGACCAATGGTCTCACAGGTCCTACGATCTCTCACCGTCCATTACCGCTCTACATAGGTTGTCGTTCGGGGt*CACTCCTTTCGCCCCc*TTCAGGAGTTAGAGTCAGAACAACTATTTCTTGACACGTCTTGTTTGTAACTTGTACAGTCAAAGTTTCCTTCGAATGATACCCCCGTGTCCCTCTACTTCTGTTGAGAGGGTCCTAAGAATTTTTCGGTTAGACACTGACAAGAGTCCCAGCGAGAGAGGGATTTACGAGGGGTGGAGATATTTACTGGTATTCGTCGGTGGAAGGGTCTCTCGTTAACAGGTTGCGGTCGGATTATGTTGACAGGGTTTGTGGTGAGTCGGATGTTTAAGACCTAAAAGGACAATTGTATCAAATAAAAGAAGTTTCGTCACACCGGAGTTCCAGTAATGATTTAC ---\n",
      "+ GGGTCAGGTATGTAAGGGAGAGATTGAGAAATTCTTAAACCTTGAACCAGACAGGCAACGAGGTAGTGGGATCTTGAGAATTCACACTTCTTCCGGAATTCCGGACCAATGGTCTCACAGGTCCTACGATCTCTCACCGTCCATTACCGCTCTACATAGGTTGTCGTTCGGGGt*CACTCCTTTCGCCCCc*TTCAGGAGTTAGAGTCAGAACAACTATTTCTTGACACGTCTTGTTTGTAACTTGTACAGTCAAAGTTTCCTTCGAATGATACCCCCGTGTCCCTCTACTTCTGTTGAGAGGGTCCTAAGAATTTTTCGGTTAGACACTGACAAGAGTCCCAGCGAGAGAGGGATTTACGAGGGGTGGAGATATTTACTGGTATTCGTCGGTGGAAGGGTCTCTCGTTAACAGGTTGCGGTCGGATTATGTTGACAGGGTTTGTGGTGAGTCGGATGTTTAAGACCTAAAAGGACAATTGTATCAAATAAAAGAAGTTTCGTCACACCGGAGTTCCAGTAATGATTTAC ---\n",
      "+ GGTATGTAAGGGAGAGATTGAGAAATTCTTAAACCTTGAACCAGACAGGCAACGAGGTAGTGGGATCTTGAGAATTCACACTTCTTCCGGAATTCCGGACCAATGGTCTCACAGGTCCTACGATCTCTCACCGTCCATTACCGCTCTACATAGGTTGTCGTTCGGGGt*CACTCCTTTCGCCCCc*TTCAGGAGTTAGAGTCAGAACAACTATTTCTTGACACGTCTTGTTTGTAACTTGTACAGTCAAAGTTTCCTTCGAATGATACCCCCGTGTCCCTCTACTTCTGTTGAGAGGGTCCTAAGAATTTTTCGGTTAGACACTGACAAGAGTCCCAGCGAGAGAGGGATTTACGAGGGGTGGAGATATTTACTGGTATTCGTCGGTGGAAGGGTCTCTCGTTAACAGGTTGCGGTCGGATTATGTTGACAGGGTTTGTGGTGAGTCGGATGTTTAAGACCTAAAAGGACAATTGTATCAAATAAAAGAAGTTTCGTCACACCGGAGTTCCAGTAATGATTTAC ---\n",
      "+ GGGAGAGATTGAGAAATTCTTAAACCTTGAACCAGACAGGCAACGAGGTAGTGGGATCTTGAGAATTCACACTTCTTCCGGAATTCCGGACCAATGGTCTCACAGGTCCTACGATCTCTCACCGTCCATTACCGCTCTACATAGGTTGTCGTTCGGGGt*CACTCCTTTCGCCCCc*TTCAGGAGTTAGAGTCAGAACAACTATTTCTTGACACGTCTTGTTTGTAACTTGTACAGTCAAAGTTTCCTTCGAATGATACCCCCGTGTCCCTCTACTTCTGTTGAGAGGGTCCTAAGAATTTTTCGGTTAGACACTGACAAGAGTCCCAGCGAGAGAGGGATTTACGAGGGGTGGAGATATTTACTGGTATTCGTCGGTGGAAGGGTCTCTCGTTAACAGGTTGCGGTCGGATTATGTTGACAGGGTTTGTGGTGAGTCGGATGTTTAAGACCTAAAAGGACAATTGTATCAAATAAAAGAAGTTTCGTCACACCGGAGTTCCAGTAATGATTTAC ---\n",
      "+ GGCAACGAGGTAGTGGGATCTTGAGAATTCACACTTCTTCCGGAATTCCGGACCAATGGTCTCACAGGTCCTACGATCTCTCACCGTCCATTACCGCTCTACATAGGTTGTCGTTCGGGGt*CACTCCTTTCGCCCCc*TTCAGGAGTTAGAGTCAGAACAACTATTTCTTGACACGTCTTGTTTGTAACTTGTACAGTCAAAGTTTCCTTCGAATGATACCCCCGTGTCCCTCTACTTCTGTTGAGAGGGTCCTAAGAATTTTTCGGTTAGACACTGACAAGAGTCCCAGCGAGAGAGGGATTTACGAGGGGTGGAGATATTTACTGGTATTCGTCGGTGGAAGGGTCTCTCGTTAACAGGTTGCGGTCGGATTATGTTGACAGGGTTTGTGGTGAGTCGGATGTTTAAGACCTAAAAGGACAATTGTATCAAATAAAAGAAGTTTCGTCACACCGGAGTTCCAGTAATGATTTAC ---\n",
      "+ GGTAGTGGGATCTTGAGAATTCACACTTCTTCCGGAATTCCGGACCAATGGTCTCACAGGTCCTACGATCTCTCACCGTCCATTACCGCTCTACATAGGTTGTCGTTCGGGGt*CACTCCTTTCGCCCCc*TTCAGGAGTTAGAGTCAGAACAACTATTTCTTGACACGTCTTGTTTGTAACTTGTACAGTCAAAGTTTCCTTCGAATGATACCCCCGTGTCCCTCTACTTCTGTTGAGAGGGTCCTAAGAATTTTTCGGTTAGACACTGACAAGAGTCCCAGCGAGAGAGGGATTTACGAGGGGTGGAGATATTTACTGGTATTCGTCGGTGGAAGGGTCTCTCGTTAACAGGTTGCGGTCGGATTATGTTGACAGGGTTTGTGGTGAGTCGGATGTTTAAGACCTAAAAGGACAATTGTATCAAATAAAAGAAGTTTCGTCACACCGGAGTTCCAGTAATGATTTAC ---\n",
      "+ GGGATCTTGAGAATTCACACTTCTTCCGGAATTCCGGACCAATGGTCTCACAGGTCCTACGATCTCTCACCGTCCATTACCGCTCTACATAGGTTGTCGTTCGGGGt*CACTCCTTTCGCCCCc*TTCAGGAGTTAGAGTCAGAACAACTATTTCTTGACACGTCTTGTTTGTAACTTGTACAGTCAAAGTTTCCTTCGAATGATACCCCCGTGTCCCTCTACTTCTGTTGAGAGGGTCCTAAGAATTTTTCGGTTAGACACTGACAAGAGTCCCAGCGAGAGAGGGATTTACGAGGGGTGGAGATATTTACTGGTATTCGTCGGTGGAAGGGTCTCTCGTTAACAGGTTGCGGTCGGATTATGTTGACAGGGTTTGTGGTGAGTCGGATGTTTAAGACCTAAAAGGACAATTGTATCAAATAAAAGAAGTTTCGTCACACCGGAGTTCCAGTAATGATTTAC ---\n",
      "+ GGAATTCCGGACCAATGGTCTCACAGGTCCTACGATCTCTCACCGTCCATTACCGCTCTACATAGGTTGTCGTTCGGGGt*CACTCCTTTCGCCCCc*TTCAGGAGTTAGAGTCAGAACAACTATTTCTTGACACGTCTTGTTTGTAACTTGTACAGTCAAAGTTTCCTTCGAATGATACCCCCGTGTCCCTCTACTTCTGTTGAGAGGGTCCTAAGAATTTTTCGGTTAGACACTGACAAGAGTCCCAGCGAGAGAGGGATTTACGAGGGGTGGAGATATTTACTGGTATTCGTCGGTGGAAGGGTCTCTCGTTAACAGGTTGCGGTCGGATTATGTTGACAGGGTTTGTGGTGAGTCGGATGTTTAAGACCTAAAAGGACAATTGTATCAAATAAAAGAAGTTTCGTCACACCGGAGTTCCAGTAATGATTTAC ---\n",
      "+ GGACCAATGGTCTCACAGGTCCTACGATCTCTCACCGTCCATTACCGCTCTACATAGGTTGTCGTTCGGGGt*CACTCCTTTCGCCCCc*TTCAGGAGTTAGAGTCAGAACAACTATTTCTTGACACGTCTTGTTTGTAACTTGTACAGTCAAAGTTTCCTTCGAATGATACCCCCGTGTCCCTCTACTTCTGTTGAGAGGGTCCTAAGAATTTTTCGGTTAGACACTGACAAGAGTCCCAGCGAGAGAGGGATTTACGAGGGGTGGAGATATTTACTGGTATTCGTCGGTGGAAGGGTCTCTCGTTAACAGGTTGCGGTCGGATTATGTTGACAGGGTTTGTGGTGAGTCGGATGTTTAAGACCTAAAAGGACAATTGTATCAAATAAAAGAAGTTTCGTCACACCGGAGTTCCAGTAATGATTTAC ---\n",
      "+ GGTCTCACAGGTCCTACGATCTCTCACCGTCCATTACCGCTCTACATAGGTTGTCGTTCGGGGt*CACTCCTTTCGCCCCc*TTCAGGAGTTAGAGTCAGAACAACTATTTCTTGACACGTCTTGTTTGTAACTTGTACAGTCAAAGTTTCCTTCGAATGATACCCCCGTGTCCCTCTACTTCTGTTGAGAGGGTCCTAAGAATTTTTCGGTTAGACACTGACAAGAGTCCCAGCGAGAGAGGGATTTACGAGGGGTGGAGATATTTACTGGTATTCGTCGGTGGAAGGGTCTCTCGTTAACAGGTTGCGGTCGGATTATGTTGACAGGGTTTGTGGTGAGTCGGATGTTTAAGACCTAAAAGGACAATTGTATCAAATAAAAGAAGTTTCGTCACACCGGAGTTCCAGTAATGATTTAC ---\n",
      "+ GGTCCTACGATCTCTCACCGTCCATTACCGCTCTACATAGGTTGTCGTTCGGGGt*CACTCCTTTCGCCCCc*TTCAGGAGTTAGAGTCAGAACAACTATTTCTTGACACGTCTTGTTTGTAACTTGTACAGTCAAAGTTTCCTTCGAATGATACCCCCGTGTCCCTCTACTTCTGTTGAGAGGGTCCTAAGAATTTTTCGGTTAGACACTGACAAGAGTCCCAGCGAGAGAGGGATTTACGAGGGGTGGAGATATTTACTGGTATTCGTCGGTGGAAGGGTCTCTCGTTAACAGGTTGCGGTCGGATTATGTTGACAGGGTTTGTGGTGAGTCGGATGTTTAAGACCTAAAAGGACAATTGTATCAAATAAAAGAAGTTTCGTCACACCGGAGTTCCAGTAATGATTTAC ---\n",
      "+ GGTTGTCGTTCGGGGt*CACTCCTTTCGCCCCc*TTCAGGAGTTAGAGTCAGAACAACTATTTCTTGACACGTCTTGTTTGTAACTTGTACAGTCAAAGTTTCCTTCGAATGATACCCCCGTGTCCCTCTACTTCTGTTGAGAGGGTCCTAAGAATTTTTCGGTTAGACACTGACAAGAGTCCCAGCGAGAGAGGGATTTACGAGGGGTGGAGATATTTACTGGTATTCGTCGGTGGAAGGGTCTCTCGTTAACAGGTTGCGGTCGGATTATGTTGACAGGGTTTGTGGTGAGTCGGATGTTTAAGACCTAAAAGGACAATTGTATCAAATAAAAGAAGTTTCGTCACACCGGAGTTCCAGTAATGATTTAC ---\n",
      "+ GGGGt*CACTCCTTTCGCCCCc*TTCAGGAGTTAGAGTCAGAACAACTATTTCTTGACACGTCTTGTTTGTAACTTGTACAGTCAAAGTTTCCTTCGAATGATACCCCCGTGTCCCTCTACTTCTGTTGAGAGGGTCCTAAGAATTTTTCGGTTAGACACTGACAAGAGTCCCAGCGAGAGAGGGATTTACGAGGGGTGGAGATATTTACTGGTATTCGTCGGTGGAAGGGTCTCTCGTTAACAGGTTGCGGTCGGATTATGTTGACAGGGTTTGTGGTGAGTCGGATGTTTAAGACCTAAAAGGACAATTGTATCAAATAAAAGAAGTTTCGTCACACCGGAGTTCCAGTAATGATTTAC ---\n",
      "+ GGt*CACTCCTTTCGCCCCc*TTCAGGAGTTAGAGTCAGAACAACTATTTCTTGACACGTCTTGTTTGTAACTTGTACAGTCAAAGTTTCCTTCGAATGATACCCCCGTGTCCCTCTACTTCTGTTGAGAGGGTCCTAAGAATTTTTCGGTTAGACACTGACAAGAGTCCCAGCGAGAGAGGGATTTACGAGGGGTGGAGATATTTACTGGTATTCGTCGGTGGAAGGGTCTCTCGTTAACAGGTTGCGGTCGGATTATGTTGACAGGGTTTGTGGTGAGTCGGATGTTTAAGACCTAAAAGGACAATTGTATCAAATAAAAGAAGTTTCGTCACACCGGAGTTCCAGTAATGATTTAC ---\n",
      "+ GGAGTTAGAGTCAGAACAACTATTTCTTGACACGTCTTGTTTGTAACTTGTACAGTCAAAGTTTCCTTCGAATGATACCCCCGTGTCCCTCTACTTCTGTTGAGAGGGTCCTAAGAATTTTTCGGTTAGACACTGACAAGAGTCCCAGCGAGAGAGGGATTTACGAGGGGTGGAGATATTTACTGGTATTCGTCGGTGGAAGGGTCTCTCGTTAACAGGTTGCGGTCGGATTATGTTGACAGGGTTTGTGGTGAGTCGGATGTTTAAGACCTAAAAGGACAATTGTATCAAATAAAAGAAGTTTCGTCACACCGGAGTTCCAGTAATGATTTAC ---\n",
      "+ GGGTCCTAAGAATTTTTCGGTTAGACACTGACAAGAGTCCCAGCGAGAGAGGGATTTACGAGGGGTGGAGATATTTACTGGTATTCGTCGGTGGAAGGGTCTCTCGTTAACAGGTTGCGGTCGGATTATGTTGACAGGGTTTGTGGTGAGTCGGATGTTTAAGACCTAAAAGGACAATTGTATCAAATAAAAGAAGTTTCGTCACACCGGAGTTCCAGTAATGATTTAC ---\n",
      "+ GGTTAGACACTGACAAGAGTCCCAGCGAGAGAGGGATTTACGAGGGGTGGAGATATTTACTGGTATTCGTCGGTGGAAGGGTCTCTCGTTAACAGGTTGCGGTCGGATTATGTTGACAGGGTTTGTGGTGAGTCGGATGTTTAAGACCTAAAAGGACAATTGTATCAAATAAAAGAAGTTTCGTCACACCGGAGTTCCAGTAATGATTTAC ---\n",
      "+ GGGATTTACGAGGGGTGGAGATATTTACTGGTATTCGTCGGTGGAAGGGTCTCTCGTTAACAGGTTGCGGTCGGATTATGTTGACAGGGTTTGTGGTGAGTCGGATGTTTAAGACCTAAAAGGACAATTGTATCAAATAAAAGAAGTTTCGTCACACCGGAGTTCCAGTAATGATTTAC ---\n",
      "+ GGGGTGGAGATATTTACTGGTATTCGTCGGTGGAAGGGTCTCTCGTTAACAGGTTGCGGTCGGATTATGTTGACAGGGTTTGTGGTGAGTCGGATGTTTAAGACCTAAAAGGACAATTGTATCAAATAAAAGAAGTTTCGTCACACCGGAGTTCCAGTAATGATTTAC ---\n",
      "+ GGTGGAGATATTTACTGGTATTCGTCGGTGGAAGGGTCTCTCGTTAACAGGTTGCGGTCGGATTATGTTGACAGGGTTTGTGGTGAGTCGGATGTTTAAGACCTAAAAGGACAATTGTATCAAATAAAAGAAGTTTCGTCACACCGGAGTTCCAGTAATGATTTAC ---\n",
      "+ GGAGATATTTACTGGTATTCGTCGGTGGAAGGGTCTCTCGTTAACAGGTTGCGGTCGGATTATGTTGACAGGGTTTGTGGTGAGTCGGATGTTTAAGACCTAAAAGGACAATTGTATCAAATAAAAGAAGTTTCGTCACACCGGAGTTCCAGTAATGATTTAC ---\n",
      "+ GGTATTCGTCGGTGGAAGGGTCTCTCGTTAACAGGTTGCGGTCGGATTATGTTGACAGGGTTTGTGGTGAGTCGGATGTTTAAGACCTAAAAGGACAATTGTATCAAATAAAAGAAGTTTCGTCACACCGGAGTTCCAGTAATGATTTAC ---\n",
      "+ GGTGGAAGGGTCTCTCGTTAACAGGTTGCGGTCGGATTATGTTGACAGGGTTTGTGGTGAGTCGGATGTTTAAGACCTAAAAGGACAATTGTATCAAATAAAAGAAGTTTCGTCACACCGGAGTTCCAGTAATGATTTAC ---\n",
      "+ GGAAGGGTCTCTCGTTAACAGGTTGCGGTCGGATTATGTTGACAGGGTTTGTGGTGAGTCGGATGTTTAAGACCTAAAAGGACAATTGTATCAAATAAAAGAAGTTTCGTCACACCGGAGTTCCAGTAATGATTTAC ---\n",
      "+ GGGTCTCTCGTTAACAGGTTGCGGTCGGATTATGTTGACAGGGTTTGTGGTGAGTCGGATGTTTAAGACCTAAAAGGACAATTGTATCAAATAAAAGAAGTTTCGTCACACCGGAGTTCCAGTAATGATTTAC ---\n",
      "+ GGTTGCGGTCGGATTATGTTGACAGGGTTTGTGGTGAGTCGGATGTTTAAGACCTAAAAGGACAATTGTATCAAATAAAAGAAGTTTCGTCACACCGGAGTTCCAGTAATGATTTAC ---\n",
      "+ GGTCGGATTATGTTGACAGGGTTTGTGGTGAGTCGGATGTTTAAGACCTAAAAGGACAATTGTATCAAATAAAAGAAGTTTCGTCACACCGGAGTTCCAGTAATGATTTAC ---\n",
      "+ GGATTATGTTGACAGGGTTTGTGGTGAGTCGGATGTTTAAGACCTAAAAGGACAATTGTATCAAATAAAAGAAGTTTCGTCACACCGGAGTTCCAGTAATGATTTAC ---\n",
      "+ GGGTTTGTGGTGAGTCGGATGTTTAAGACCTAAAAGGACAATTGTATCAAATAAAAGAAGTTTCGTCACACCGGAGTTCCAGTAATGATTTAC ---\n",
      "+ GGTGAGTCGGATGTTTAAGACCTAAAAGGACAATTGTATCAAATAAAAGAAGTTTCGTCACACCGGAGTTCCAGTAATGATTTAC ---\n",
      "+ GGATGTTTAAGACCTAAAAGGACAATTGTATCAAATAAAAGAAGTTTCGTCACACCGGAGTTCCAGTAATGATTTAC ---\n",
      "+ GGACAATTGTATCAAATAAAAGAAGTTTCGTCACACCGGAGTTCCAGTAATGATTTAC ---\n",
      "+ GGAGTTCCAGTAATGATTTAC ---\n"
     ]
    }
   ],
   "source": [
    "findPAM_seq(target1_mutation_sequence[::-1])"
   ]
  },
  {
   "cell_type": "code",
   "execution_count": 64,
   "id": "8e4524a5-d324-43e9-a8e1-cff5299abbd4",
   "metadata": {},
   "outputs": [],
   "source": [
    "# Our pegRNA CRISPR sequence (for c492T>C mutation)\n",
    "pegRNA_spacer= \"AGCCCCGGTGAGGAAAGCGG\"\n",
    "rt_template= \"TTGAGGACTTtCCCCG\"\n",
    "PBS= \"CTTTCCTCACCGGGGCTT\"\n",
    "scaffold= \"TTTTAGAGCTAGAAATAGCAAGTTAAAATAAGGCTAGTCCGTTATCAACTTGAAAAAGTGGCACCGAGTCGGTGC\""
   ]
  },
  {
   "cell_type": "code",
   "execution_count": 65,
   "id": "cb333347-0f21-4246-9d5f-450ade0e469d",
   "metadata": {},
   "outputs": [],
   "source": [
    "pegRNA1=pegRNA_spacer+scaffold+rt_template+PBS"
   ]
  },
  {
   "cell_type": "code",
   "execution_count": 66,
   "id": "7d9762fb-dde5-47fd-aca6-73b19dc10afe",
   "metadata": {},
   "outputs": [
    {
     "name": "stdout",
     "output_type": "stream",
     "text": [
      "AGCCCCGGTGAGGAAAGCGGTTTTAGAGCTAGAAATAGCAAGTTAAAATAAGGCTAGTCCGTTATCAACTTGAAAAAGTGGCACCGAGTCGGTGCTTGAGGACTTtCCCCGCTTTCCTCACCGGGGCTT\n"
     ]
    }
   ],
   "source": [
    "print(pegRNA1)"
   ]
  },
  {
   "cell_type": "code",
   "execution_count": 67,
   "id": "fd8af203-003d-4107-be38-1743652dd11f",
   "metadata": {},
   "outputs": [],
   "source": [
    "# Our pegRNA sequence (for c496del mutation)\n",
    "pegRNA_spacer= \"AGCCCCGGTGAGGAAAGCGG\"\n",
    "rt_template= \"TGAGGACTTTcCCCGCT\"\n",
    "PBS= \"TTCCTCACCGGGGCTT\"\n",
    "scaffold= \"GTTTTAGAGCTAGAAATAGCAAGTTAAAATAAGGCTAGTCCGTTATCAACTTGAAAAAGTGGCACCGAGTCGGTGCT\""
   ]
  },
  {
   "cell_type": "code",
   "execution_count": 68,
   "id": "c9be23ee-9b15-4e37-bae1-180a7fa7b714",
   "metadata": {},
   "outputs": [],
   "source": [
    "pegRNA2= pegRNA_spacer +scaffold+rt_template+PBS"
   ]
  },
  {
   "cell_type": "code",
   "execution_count": 69,
   "id": "2a402431-44aa-4fe4-8c2e-382e16701aa6",
   "metadata": {},
   "outputs": [
    {
     "name": "stdout",
     "output_type": "stream",
     "text": [
      "AGCCCCGGTGAGGAAAGCGGGTTTTAGAGCTAGAAATAGCAAGTTAAAATAAGGCTAGTCCGTTATCAACTTGAAAAAGTGGCACCGAGTCGGTGCTTGAGGACTTTcCCCGCTTTCCTCACCGGGGCTT\n"
     ]
    }
   ],
   "source": [
    "print(pegRNA2)"
   ]
  },
  {
   "cell_type": "code",
   "execution_count": 70,
   "id": "aed3e3a1-723a-4ae9-8641-cf96604dcac9",
   "metadata": {},
   "outputs": [],
   "source": [
    "# Our pegRNA sequence (for c497G>A mutation)\n",
    "pegRNA_spacer= \"AAGCCCCGGTGAGGAAAGtG\"\n",
    "rt_template= \"GACTTTCCCCgC\"\n",
    "PBS= \"TTTCCTCACCGGGGCTT\"\n",
    "scaffold=\"GTTTTAGAGCTAGAAATAGCAAGTTAAAATAAGGCTAGTCCGTTATCAACTTGAAAAAGTGGCACCGAGTCGGTGCT\""
   ]
  },
  {
   "cell_type": "code",
   "execution_count": 71,
   "id": "a3843310-a307-4726-b00e-92fa1c683c28",
   "metadata": {},
   "outputs": [],
   "source": [
    "pegRNA3= pegRNA_spacer +scaffold+rt_template+PBS"
   ]
  },
  {
   "cell_type": "code",
   "execution_count": 72,
   "id": "80ab1601-6463-40d5-a93b-b257babe93d5",
   "metadata": {},
   "outputs": [
    {
     "name": "stdout",
     "output_type": "stream",
     "text": [
      "AAGCCCCGGTGAGGAAAGtGGTTTTAGAGCTAGAAATAGCAAGTTAAAATAAGGCTAGTCCGTTATCAACTTGAAAAAGTGGCACCGAGTCGGTGCTGACTTTCCCCgCTTTCCTCACCGGGGCTT\n"
     ]
    }
   ],
   "source": [
    "print(pegRNA3)"
   ]
  },
  {
   "cell_type": "code",
   "execution_count": 73,
   "id": "a9f6eac5-d1ed-4cbd-90be-9ba2856382de",
   "metadata": {},
   "outputs": [],
   "source": [
    "# Our pegRNA sequence (for c499T>G mutation)\n",
    "pegRNA_spacer= \"AAGCCCCGGTGAGGAAcGC\"\n",
    "rt_template= \"ACTTTCCCCGCt\"\n",
    "PBS= \"TTCCTCACCGGGGCTT\"\n",
    "scaffold= \"GTTTTAGAGCTAGAAATAGCAAGTTAAAATAAGGCTAGTCCGTTATCAACTTGAAAAAGTGGCACCGAGTCGGTGCT\""
   ]
  },
  {
   "cell_type": "code",
   "execution_count": 74,
   "id": "c6839856-5856-4650-9cae-0b205e0b6d54",
   "metadata": {},
   "outputs": [],
   "source": [
    "pegRNA4= pegRNA_spacer +scaffold+rt_template+PBS"
   ]
  },
  {
   "cell_type": "code",
   "execution_count": 75,
   "id": "9f444600-634b-4812-99d8-982f5adc158d",
   "metadata": {},
   "outputs": [
    {
     "name": "stdout",
     "output_type": "stream",
     "text": [
      "AAGCCCCGGTGAGGAAcGCGTTTTAGAGCTAGAAATAGCAAGTTAAAATAAGGCTAGTCCGTTATCAACTTGAAAAAGTGGCACCGAGTCGGTGCTACTTTCCCCGCtTTCCTCACCGGGGCTT\n"
     ]
    }
   ],
   "source": [
    "print(pegRNA4)"
   ]
  },
  {
   "cell_type": "code",
   "execution_count": 76,
   "id": "632eb548-0fdd-43dc-a0ba-84639b51b5b5",
   "metadata": {},
   "outputs": [],
   "source": [
    "# Our pegRNA sequence (for c508C>T mutation)\n",
    "pegRNA_spacer =\"CCGCTTTCCTCACCGGGGCTTtG\"\n",
    "rt_template= \"AGCAAGCCCCgG\"\n",
    "PBS= \"TGAGGAAAGCGGGGA\"\n",
    "scaffold= \"GTTTTAGAGCTAGAAATAGCAAGTTAAAATAAGGCTAGTCCGTTATCAACTTGAAAAAGTGGCACCGAGTCGGTGCT\""
   ]
  },
  {
   "cell_type": "code",
   "execution_count": 77,
   "id": "654f44de-16c9-4cee-8051-ffb96a5bee3d",
   "metadata": {},
   "outputs": [],
   "source": [
    "pegRNA5= pegRNA_spacer + scaffold+ rt_template + PBS"
   ]
  },
  {
   "cell_type": "code",
   "execution_count": 78,
   "id": "b5f13836-1532-4f8f-82f3-70e3780b9004",
   "metadata": {},
   "outputs": [
    {
     "name": "stdout",
     "output_type": "stream",
     "text": [
      "CCGCTTTCCTCACCGGGGCTTtGGTTTTAGAGCTAGAAATAGCAAGTTAAAATAAGGCTAGTCCGTTATCAACTTGAAAAAGTGGCACCGAGTCGGTGCTAGCAAGCCCCgGTGAGGAAAGCGGGGA\n"
     ]
    }
   ],
   "source": [
    "print(pegRNA5)"
   ]
  },
  {
   "cell_type": "code",
   "execution_count": 79,
   "id": "d558518d-25f1-4ba0-a377-7d8befa7c59a",
   "metadata": {},
   "outputs": [],
   "source": [
    "# Our pegRNA sequence (for c509G>A mutation) \n",
    "pegRNA_spacer= \"TTTCCCCGCTTTCCTCACCa\"\n",
    "rt_template= \"ACAGCAAGCCCcGG\"\n",
    "PBS= \"TGAGGAAAGCGGGGA\"\n",
    "scaffold=\"GTTTTAGAGCTAGAAATAGCAAGTTAAAATAAGGCTAGTCCGTTATCAACTTGAAAAAGTGGCACCGAGTCGGTGCT\""
   ]
  },
  {
   "cell_type": "code",
   "execution_count": 80,
   "id": "a24f75a0-40a9-4e89-84e1-6327f342ebe0",
   "metadata": {},
   "outputs": [],
   "source": [
    "pegRNA6= pegRNA_spacer + scaffold+ rt_template + PBS"
   ]
  },
  {
   "cell_type": "code",
   "execution_count": 81,
   "id": "442e27d7-4eac-493d-9523-2f71032315fd",
   "metadata": {},
   "outputs": [
    {
     "name": "stdout",
     "output_type": "stream",
     "text": [
      "TTTCCCCGCTTTCCTCACCaGTTTTAGAGCTAGAAATAGCAAGTTAAAATAAGGCTAGTCCGTTATCAACTTGAAAAAGTGGCACCGAGTCGGTGCTACAGCAAGCCCcGGTGAGGAAAGCGGGGA\n"
     ]
    }
   ],
   "source": [
    "print(pegRNA6)"
   ]
  },
  {
   "cell_type": "markdown",
   "id": "5ceac06a-9d8b-4d57-a316-096ea10b033e",
   "metadata": {},
   "source": [
    "### Finally, we are calculating GC content raito of our pegRNA sequences and showing in a plot."
   ]
  },
  {
   "cell_type": "code",
   "execution_count": 82,
   "id": "73cc3d19-d9ab-46f4-ab94-f34a7355f3af",
   "metadata": {},
   "outputs": [],
   "source": [
    "def GC_content(sequence):\n",
    "    gc_content= (sequence.count(\"G\")+sequence.count(\"C\"))/len(sequence)*100\n",
    "    return gc_content\n",
    "\n",
    "def AT_content(sequence):\n",
    "    at_content= (sequence.count(\"A\")+sequence.count(\"T\"))/len(sequence)*100\n",
    "    return at_content"
   ]
  },
  {
   "cell_type": "code",
   "execution_count": 83,
   "id": "19248dc9-159a-40e9-b37b-eeb97bd87f76",
   "metadata": {},
   "outputs": [
    {
     "name": "stdout",
     "output_type": "stream",
     "text": [
      "GC content ratio of pegRNA1: 49.6124031007752\n",
      "GC content ratio of pegRNA2: 50.0\n",
      "GC content ratio of pegRNA3: 48.41269841269841\n",
      "GC content ratio of pegRNA4: 49.193548387096776\n",
      "GC content ratio of pegRNA5: 50.39370078740157\n",
      "GC content ratio of pegRNA6: 48.41269841269841\n"
     ]
    }
   ],
   "source": [
    "print(\"GC content ratio of pegRNA1:\",GC_content(pegRNA1.upper()))\n",
    "print(\"GC content ratio of pegRNA2:\",GC_content(pegRNA2.upper()))\n",
    "print(\"GC content ratio of pegRNA3:\",GC_content(pegRNA3.upper()))\n",
    "print(\"GC content ratio of pegRNA4:\",GC_content(pegRNA4.upper()))\n",
    "print(\"GC content ratio of pegRNA5:\",GC_content(pegRNA5.upper()))\n",
    "print(\"GC content ratio of pegRNA6:\",GC_content(pegRNA6.upper()))"
   ]
  },
  {
   "cell_type": "code",
   "execution_count": 84,
   "id": "8faa11af-21ea-4929-a4ec-7539effd1892",
   "metadata": {},
   "outputs": [
    {
     "data": {
      "text/plain": [
       "[<matplotlib.lines.Line2D at 0x180f213ce80>]"
      ]
     },
     "execution_count": 84,
     "metadata": {},
     "output_type": "execute_result"
    },
    {
     "data": {
      "image/png": "[encoded data removed]",
      "text/plain": [
       "<Figure size 432x288 with 1 Axes>"
      ]
     },
     "metadata": {
      "needs_background": "light"
     },
     "output_type": "display_data"
    }
   ],
   "source": [
    "plt.plot([\"pegRNA1\",\"pegRNA2\",\"pegRNA3\",\"pegRNA4\",\"pegRNA5\",\"pegRNA6\"],[GC_content(pegRNA1.upper()),GC_content(pegRNA2.upper()),GC_content(pegRNA3.upper()),GC_content(pegRNA4.upper()),GC_content(pegRNA5.upper()),GC_content(pegRNA6.upper())])"
   ]
  },
  {
   "cell_type": "code",
   "execution_count": 85,
   "id": "067a546e-a5bf-4d7b-b98e-5f3763a566f3",
   "metadata": {},
   "outputs": [
    {
     "name": "stdout",
     "output_type": "stream",
     "text": [
      "AT content ratio of pegRNA1: 50.3875968992248\n",
      "AT content ratio of pegRNA2: 50.0\n",
      "AT content ratio of pegRNA3: 51.587301587301596\n",
      "AT content ratio of pegRNA4: 50.806451612903224\n",
      "AT content ratio of pegRNA5: 49.60629921259843\n",
      "AT content ratio of pegRNA6: 51.587301587301596\n"
     ]
    }
   ],
   "source": [
    "print(\"AT content ratio of pegRNA1:\",AT_content(pegRNA1.upper()))\n",
    "print(\"AT content ratio of pegRNA2:\",AT_content(pegRNA2.upper()))\n",
    "print(\"AT content ratio of pegRNA3:\",AT_content(pegRNA3.upper()))\n",
    "print(\"AT content ratio of pegRNA4:\",AT_content(pegRNA4.upper()))\n",
    "print(\"AT content ratio of pegRNA5:\",AT_content(pegRNA5.upper()))\n",
    "print(\"AT content ratio of pegRNA6:\",AT_content(pegRNA6.upper()))"
   ]
  },
  {
   "cell_type": "code",
   "execution_count": 86,
   "id": "1ba13144-6cb6-45ac-8209-d2c34304f414",
   "metadata": {},
   "outputs": [],
   "source": [
    "alignment1= pairwise2.align.globalxx(pegRNA1,target1_mutation_sequence)\n",
    "alignment2= pairwise2.align.globalxx(pegRNA2,target1_mutation_sequence)\n",
    "alignment3= pairwise2.align.globalxx(pegRNA3,target1_mutation_sequence)\n",
    "alignment4= pairwise2.align.globalxx(pegRNA4,target1_mutation_sequence)\n",
    "alignment5= pairwise2.align.globalxx(pegRNA5,target1_mutation_sequence)\n",
    "alignment6= pairwise2.align.globalxx(pegRNA6,target1_mutation_sequence)"
   ]
  },
  {
   "cell_type": "code",
   "execution_count": 87,
   "id": "06078245-65ca-440f-a8ee-f6d417d69789",
   "metadata": {},
   "outputs": [
    {
     "name": "stdout",
     "output_type": "stream",
     "text": [
      "Alignment(seqA='-A----G------CC------CC-----G----G-------T-------G--A---GGAAA-----G----------C-G-GT--T-TT----A--G----A---G-CTAG-------A-AAT-----------A-G----C-----A-----A------G---T--------T--A---A-A-A-------T-A-A---G-----G-----CT----A-G--TCC-G------TT------ATC-------------A-A-----CTT-----GAAA---A-A-GT-----G---G--C---AC----C-----------GA--G---T------C--------G------------G----T-GCT-T-G-A--------G---------G--ACT-TtC---C--CC-G--C--T-T--T--CC-----T-----C-------AC-C----G-G-----GG---------C---------------TT--------------------------------------------------------------------', seqB='CATTTAGTAATGACCTTGAGGCCACACTGCTTTGAAGAAAATAAACTATGTTAACAGGAAAATCCAGAATTTGTAGGCTGAGTGGTGTTTGGGACAGTTGTATTAGGCT-GGCGTTGGACAATTGCTCTCTGGGAAGGTGGCTGCTTATGGTCATTTATAGAGGTGGGGAGCATTTAGGGAGAGAGCGACCCTGAGAACAGTCACAGATTGGCTTTTTAAGAATCCTGGGAGAGTTGTCTTCATCTCCCTGTGCCCCCATAGTAAGCTTCCTTTGAAACTGACATGTTCAATGTTTGTTCTGCACAGTTCTTTATCAACAAGACTGAGATTGAGGACTT*cCCCCGCTTTCCTCAC*tGGGGCTTGCTGTTGGATACATCTCGCCATTACCTGCCACTCT-CTAGCATCCTGGACACTCTGGTAACCAGGCCTTAAGGCCTTCTTCACACTTAAGAGTTCTAGGGTGATGGAGCAACGGACAGACCAAGTTCCAAATTCTTAAAGAGTTAGAGAGGGAATGTATGGACTGGGTGTGGTGGCTCATGCCTGTAATCCCAA', score=127.0, start=0, end=559)\n"
     ]
    }
   ],
   "source": [
    "print(alignment1[0])"
   ]
  },
  {
   "cell_type": "code",
   "execution_count": 88,
   "id": "65fcf310-d5b7-4772-b599-80f74e4b349c",
   "metadata": {},
   "outputs": [
    {
     "name": "stdout",
     "output_type": "stream",
     "text": [
      "Alignment(seqA='-A----G------CC------CC-----G----G-------T-------G--A---GGAAA-----G----------C-G-G-G-T-TTT---A--G----A---G-CTAG-------A-AAT-----------A-G----C-----A-----A------G---T--------T--A---A-A-A-------T-A-A---G-----G-----CT----A-G--TCC-G------TT------ATC-------------A-A-----CTT-----GAAA---A-A-GT-----G---G--C---AC----C-----------GA--G---T------C--------G------------G----T-GCT-T-G-A--------G---------G--ACT-T-Tc--C--CC-G--C--T-T--T--CC-----T-----C-------AC-C----G-G-----GG---------C---------------TT--------------------------------------------------------------------', seqB='CATTTAGTAATGACCTTGAGGCCACACTGCTTTGAAGAAAATAAACTATGTTAACAGGAAAATCCAGAATTTGTAGGCTGAGTGGTGTTTGGGACAGTTGTATTAGGCT-GGCGTTGGACAATTGCTCTCTGGGAAGGTGGCTGCTTATGGTCATTTATAGAGGTGGGGAGCATTTAGGGAGAGAGCGACCCTGAGAACAGTCACAGATTGGCTTTTTAAGAATCCTGGGAGAGTTGTCTTCATCTCCCTGTGCCCCCATAGTAAGCTTCCTTTGAAACTGACATGTTCAATGTTTGTTCTGCACAGTTCTTTATCAACAAGACTGAGATTGAGGACTT*cCCCCGCTTTCCTCAC*tGGGGCTTGCTGTTGGATACATCTCGCCATTACCTGCCACTCTCT-AGCATCCTGGACACTCTGGTAACCAGGCCTTAAGGCCTTCTTCACACTTAAGAGTTCTAGGGTGATGGAGCAACGGACAGACCAAGTTCCAAATTCTTAAAGAGTTAGAGAGGGAATGTATGGACTGGGTGTGGTGGCTCATGCCTGTAATCCCAA', score=128.0, start=0, end=559)\n"
     ]
    }
   ],
   "source": [
    "print(alignment2[0])"
   ]
  },
  {
   "cell_type": "code",
   "execution_count": 89,
   "id": "ff22de66-6097-4f65-98f1-8775aaba0009",
   "metadata": {},
   "outputs": [
    {
     "name": "stdout",
     "output_type": "stream",
     "text": [
      "Alignment(seqA='-A---AG------CC------CCG-----G-T--GA-G------------G--AA-AGtG--------G--TTT-TAG----AG------------C--T---A---G-----------A-AAT-----------A-G----C-----A-----A------G---T--------T--A---A-A-A-------T-A-A---G-----G-----CT----A-G--TCC-G------TT------ATC-------------A-A-----CTT-----GAAA---A-A-GT-----G---G--C---AC----C-----------GA--G---T------C--------G------------G----T-GCTG----A--C-T-T-----T--CC--CCg-CT-T-T--C--C-T---CAC-C-GG------GGC-TT-----------------------------------------------------------------------------------------------------------------------------', seqB='CATTTAGTAATGACCTTGAGGCC-ACACTGCTTTGAAGAAAATAAACTATGTTAACAG-GAAAATCCAGAATTTGTAGGCTGAGTGGTGTTTGGGACAGTTGTATTAGGCTGGCGTTGGACAATTGCTCTCTGGGAAGGTGGCTGCTTATGGTCATTTATAGAGGTGGGGAGCATTTAGGGAGAGAGCGACCCTGAGAACAGTCACAGATTGGCTTTTTAAGAATCCTGGGAGAGTTGTCTTCATCTCCCTGTGCCCCCATAGTAAGCTTCCTTTGAAACTGACATGTTCAATGTTTGTTCTGCACAGTTCTTTATCAACAAGACTGAGATTGAGGACTT*cCCCCGCTTTCCTCAC*tGGGGCTTGCTGTTGGATACATCTCGCCATTACCTGCC-ACTCTCTAGCATCCTGGACACTCTGGTAACCAGGCCTTAAGGCCTTCTTCACACTTAAGAGTTCTAGGGTGATGGAGCAACGGACAGACCAAGTTCCAAATTCTTAAAGAGTTAGAGAGGGAATGTATGGACTGGGTGTGGTGGCTCATGCCTGTAATCCCAA', score=123.0, start=0, end=560)\n"
     ]
    }
   ],
   "source": [
    "print(alignment3[0])"
   ]
  },
  {
   "cell_type": "code",
   "execution_count": 90,
   "id": "118cfbd7-20f8-47af-a112-18ace1995623",
   "metadata": {},
   "outputs": [
    {
     "name": "stdout",
     "output_type": "stream",
     "text": [
      "Alignment(seqA='-A---AG------CC------CCG-----G-T--GA-G------------G--AAc--G------C--G--TTT-TAG----AG------------C--T---A---G-----------A-AAT-----------A-G----C-----A-----A------G---T--------T--A---A-A-A-------T-A-A---G-----G-----CT----A-G--TCC-G------TT------ATC-------------A-A-----CTT-----GAAA---A-A-GT-----G---G--C---AC----C-----------GA--G---T------C--------G------------G----T-GCT-----A--C-T-T-----T--CC--CC--------GCt-T--T---C-CTC----A-CC-GG------GGC-TT---------------------------------------------------------------------------------------------------------------------', seqB='CATTTAGTAATGACCTTGAGGCC-ACACTGCTTTGAAGAAAATAAACTATGTTAA-CAGGAAAATCCAGAATTTGTAGGCTGAGTGGTGTTTGGGACAGTTGTATTAGGCTGGCGTTGGACAATTGCTCTCTGGGAAGGTGGCTGCTTATGGTCATTTATAGAGGTGGGGAGCATTTAGGGAGAGAGCGACCCTGAGAACAGTCACAGATTGGCTTTTTAAGAATCCTGGGAGAGTTGTCTTCATCTCCCTGTGCCCCCATAGTAAGCTTCCTTTGAAACTGACATGTTCAATGTTTGTTCTGCACAGTTCTTTATCAACAAGACTGAGATTGAGGACTT*cCCCCGCTTTCCTCAC*tGGGGCTTGCTGTTGGATACATCTCGCCATTACCTGCCACTCTCTAGC-ATCCTGGACACTCTGGTAACCAGGCCTTAAGGCCTTCTTCACACTTAAGAGTTCTAGGGTGATGGAGCAACGGACAGACCAAGTTCCAAATTCTTAAAGAGTTAGAGAGGGAATGTATGGACTGGGTGTGGTGGCTCATGCCTGTAATCCCAA', score=121.0, start=0, end=560)\n"
     ]
    }
   ],
   "source": [
    "print(alignment4[0])"
   ]
  },
  {
   "cell_type": "code",
   "execution_count": 91,
   "id": "6a893746-584d-43d6-b114-fb915a0fb2a7",
   "metadata": {},
   "outputs": [
    {
     "name": "stdout",
     "output_type": "stream",
     "text": [
      "Alignment(seqA='C------------C---G---C-----T--TT-------------C--------C-------TC-A-----------C----------------C-G--G-----GGCT----Tt-GG----TT--T-T-----A-G----------A-G--C-T--A--GA-------A--AT--AG--------C-A-----AG-----T------T---------AA-AAT------A-AG--G-CT--A-------GT-CC------GT----T-------A---T--CA-----A---------CT------T-------------GA---A-A---A--A---------G-T----------GG--C----------A--C--C--G--A------G----TC----G------G-----T--G----C------T-A-G-C-------A-A-----G----C-------------C--C---Cg-G------T--------------GAG---GA-A---A--G------C-GGG-G---------A---------------', seqB='CATTTAGTAATGACCTTGAGGCCACACTGCTTTGAAGAAAATAAACTATGTTAACAGGAAAATCCAGAATTTGTAGGCTGAGTGGTGTTTGGGACAGTTGTATTAGGCTGGCGT-TGGACAATTGCTCTCTGGGAAGGTGGCTGCTTATGGTCATTTATAGAGGTGGGGAGCATTTAGGGAGAGAGCGACCCTGAGAACAGTCACAGATTGGCTTTTTAAGAATCCTGGGAGAGTTGTCTTCATCTCCCTGTGCCCCCATAGTAAGCTTCCTTTGAAACTGACATGTTCAATGTTTGTTCTGCACAGTTCTTTATCAACAAGACTGAGATTGAGGACTT*cCCCCGCTTTCCTCAC*tGGGGCTTGCTGTTGGATACATCTCGCCATTACCTGCCACTCTCTAGCATCCTGGACACTCTGGTAACCAGGCCTTAAGGCCTTCTTCACACTTAAGAGTTCTAGGGTGATGGAGCAACGGAC-AGACCAAGTTCCAAATTCTTAAAGAGTTAGAGAGGGAATGTATGGACTGGGTGTGGTGGCTCATGCCTGTAATCCCAA', score=125.0, start=0, end=559)\n"
     ]
    }
   ],
   "source": [
    "print(alignment5[0])"
   ]
  },
  {
   "cell_type": "code",
   "execution_count": 92,
   "id": "f75a89ce-a35d-496b-941c-25b032871faf",
   "metadata": {},
   "outputs": [
    {
     "name": "stdout",
     "output_type": "stream",
     "text": [
      "Alignment(seqA='--TTT--------CC------CC-----GCTTT------------C--------C-------TC-A-----------C----------------Ca-GTT-T-T-AG-----------A-----GCT-------A-G----------A-----A---ATAG----------CA---AG--------------T--------T-A-A-A----------A----T------A-AG--G-CT--A-------GT-CC------GT----T-------A---T--CA-----A---------CT------T-------------GA---A-A---A--A---------G-T----------GG--C----------A--C--C--G--A------G----TC----G------G-----T--G----C------T-A---C-------A-------G----C-A-----A-G---C--C---Cc-G-----GT--------------GAG---GA-A---A--G------C-GGG-G---------A---------------', seqB='CATTTAGTAATGACCTTGAGGCCACACTGCTTTGAAGAAAATAAACTATGTTAACAGGAAAATCCAGAATTTGTAGGCTGAGTGGTGTTTGGGAC-AGTTGTATTAGGCTGGCGTTGGACAATTGCTCTCTGGGAAGGTGGCTGCTTATGGTCATTTATAGAGGTGGGGAGCATTTAGGGAGAGAGCGACCCTGAGAACAGTCACAGATTGGCTTTTTAAGAATCCTGGGAGAGTTGTCTTCATCTCCCTGTGCCCCCATAGTAAGCTTCCTTTGAAACTGACATGTTCAATGTTTGTTCTGCACAGTTCTTTATCAACAAGACTGAGATTGAGGACTT*cCCCCGCTTTCCTCAC*tGGGGCTTGCTGTTGGATACATCTCGCCATTACCTGCCACTCTCTAGCATCCTGGACACTCTGGTAACCAGGCCTTAAGGCCTTCTTCACACTTAAGAGTTCTAGGGTGATGGAGCAACGGAC-AGACCAAGTTCCAAATTCTTAAAGAGTTAGAGAGGGAATGTATGGACTGGGTGTGGTGGCTCATGCCTGTAATCCCAA', score=124.0, start=0, end=559)\n"
     ]
    }
   ],
   "source": [
    "print(alignment6[0])"
   ]
  }
 ],
 "metadata": {
  "kernelspec": {
   "display_name": "Python 3 (ipykernel)",
   "language": "python",
   "name": "python3"
  },
  "language_info": {
   "codemirror_mode": {
    "name": "ipython",
    "version": 3
   },
   "file_extension": ".py",
   "mimetype": "text/x-python",
   "name": "python",
   "nbconvert_exporter": "python",
   "pygments_lexer": "ipython3",
   "version": "3.9.12"
  },
  "vscode": {
   "interpreter": {
    "hash": "0cfc40a3ee08cc08db4ed5967e5297b5fc190c626b79b85f8cf72225e18a6f72"
   }
  }
 },
 "nbformat": 4,
 "nbformat_minor": 5
}
